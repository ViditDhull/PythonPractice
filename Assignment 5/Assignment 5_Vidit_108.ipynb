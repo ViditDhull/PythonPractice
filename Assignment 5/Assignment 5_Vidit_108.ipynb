{
 "cells": [
  {
   "cell_type": "markdown",
   "id": "38e505b3",
   "metadata": {},
   "source": [
    "1. Create a Vehicle class with attributes number of wheels, number of airbags,\n",
    "engine horsepower, max speed, mileage, etc. Create a constructor and a method\n",
    "that displays vehicle info."
   ]
  },
  {
   "cell_type": "code",
   "execution_count": 1,
   "id": "de2956f6",
   "metadata": {},
   "outputs": [],
   "source": [
    "class Vehicle:\n",
    "    '''This is a vehicle class that stores the data of the vehicle and it has a method to display that data.'''\n",
    "    def __init__(self, wheels, airbags, power, speed, mileage):\n",
    "        self.no_of_wheels = wheels\n",
    "        self.no_of_airbags = airbags\n",
    "        self.engine_horsepower = power\n",
    "        self.max_speed = speed\n",
    "        self.mileage = mileage\n",
    "    \n",
    "    def disp(self):\n",
    "        '''This method displays the data of the vehicle.'''\n",
    "        print(\"Number of wheels: \", self.no_of_wheels)\n",
    "        print(\"Number of airbage: \", self.no_of_airbags)\n",
    "        print(\"Engine HorsePower: \", self.engine_horsepower)\n",
    "        print(\"Maximum speed: \", self.max_speed)\n",
    "        print(\"Mileage: \", self.mileage)"
   ]
  },
  {
   "cell_type": "code",
   "execution_count": 2,
   "id": "f2949358",
   "metadata": {},
   "outputs": [
    {
     "name": "stdout",
     "output_type": "stream",
     "text": [
      "Number of wheels:  4\n",
      "Number of airbage:  6\n",
      "Engine HorsePower:  150bhp\n",
      "Maximum speed:  200\n",
      "Mileage:  12kmpl\n"
     ]
    }
   ],
   "source": [
    "v1 = Vehicle(4, 6, \"150bhp\", 200, \"12kmpl\")\n",
    "v1.disp()"
   ]
  },
  {
   "cell_type": "markdown",
   "id": "4cb90ece",
   "metadata": {},
   "source": [
    "2. Create a child class Bus, from Vehicle class, that will inherit all of the variables\n",
    "and methods of the Vehicle class. This Bus class will have its own attributes –\n",
    "number of doors, number of seats, fare per km, etc, along with inherited\n",
    "attributes. Write a method to calculate bus fare by accepting distance in km as\n",
    "parameter."
   ]
  },
  {
   "cell_type": "code",
   "execution_count": 3,
   "id": "9bfc3344",
   "metadata": {},
   "outputs": [],
   "source": [
    "class Bus(Vehicle):\n",
    "    '''This is Bus class, it inherits the Vehicle class and has a method to calculate the fare.'''\n",
    "    def __init__(self, wheels, airbags, power, speed, mileage, doors, seats, fare_per_km):\n",
    "        Vehicle.__init__(self, wheels, airbags, power, speed, mileage)\n",
    "        self.no_of_doors = doors\n",
    "        self.no_of_seats = seats\n",
    "        self.fare_per_km = fare_per_km\n",
    "        \n",
    "    def fare(self,distance):\n",
    "        '''This method accepts distance and displays the fare for that distance.'''\n",
    "        print(f\"Your fare for {distance} km is: \", (self.fare_per_km * distance))"
   ]
  },
  {
   "cell_type": "code",
   "execution_count": 4,
   "id": "ca9e707c",
   "metadata": {},
   "outputs": [
    {
     "name": "stdout",
     "output_type": "stream",
     "text": [
      "Your fare for 20 km is:  200\n"
     ]
    }
   ],
   "source": [
    "b1 = Bus(4, 2, 250, 120, 8, 2, 40, 10)\n",
    "b1.fare(20)"
   ]
  },
  {
   "cell_type": "markdown",
   "id": "1127bf4d",
   "metadata": {},
   "source": [
    "3. Create class BankAccount with attributes cutomer_id, customer_name,\n",
    "account_balance. Write methods to withdraw and deposit amounts. If during\n",
    "withdrawing money from the account, the account balance is not sufficient,\n",
    "display appropriate messages. Create objects of this class and test methods to\n",
    "withdraw and deposit."
   ]
  },
  {
   "cell_type": "code",
   "execution_count": 5,
   "id": "e1dd9835",
   "metadata": {},
   "outputs": [],
   "source": [
    "class BankAccount:\n",
    "    '''This class has attributes to store the data about the customer Bank Account.\n",
    "    It has two methods to deposit and withdraw money from the account.'''\n",
    "    def __init__(self, cid, cname, cbalance):\n",
    "        self.customer_id = cid\n",
    "        self.customer_name = cname\n",
    "        self.account_balance = cbalance\n",
    "        \n",
    "    def withdraw(self, amount):\n",
    "        '''The withdraw method allows us to withdraw money.'''\n",
    "        if self.account_balance < amount:\n",
    "            print(\"You cannot withdraw this amount beacuse of insufficient balance.\")\n",
    "        else:\n",
    "            print(\"Withdraw successful.\")\n",
    "            self.account_balance = self.account_balance - amount\n",
    "            print(f\"Account balance after withdrawal is: {self.account_balance}\")\n",
    "    \n",
    "    def deposit(self,amount):\n",
    "        '''The deposit method allows us to deposit money in the account.'''\n",
    "        print(\"Money successfuly deposited.\")\n",
    "        self.account_balance = self.account_balance + amount\n",
    "        print(f\"Account Balance after deposition is: {self.account_balance}\")"
   ]
  },
  {
   "cell_type": "code",
   "execution_count": 6,
   "id": "5a8514ab",
   "metadata": {},
   "outputs": [
    {
     "name": "stdout",
     "output_type": "stream",
     "text": [
      "You cannot withdraw this amount beacuse of insufficient balance.\n",
      "Money successfuly deposited.\n",
      "Account Balance after deposition is: 12000\n"
     ]
    }
   ],
   "source": [
    "acc1 = BankAccount(1001, \"Vidit 1\", 10000)\n",
    "acc1.withdraw(100000)\n",
    "acc1.deposit(2000)"
   ]
  },
  {
   "cell_type": "markdown",
   "id": "7d9bde3c",
   "metadata": {},
   "source": [
    "4. Create class RegularAccount derived from base class BankAccount. There is a\n",
    "penalty of Rs. 10.00 if the balance falls below a minimum of Rs.3000. If customer\n",
    "tries to withdraw amount and balance goes below Rs. 3000, deduct penalty\n",
    "amount from the balance and notify customer about it, and if after deducting\n",
    "penalty amount if balance goes in below zero notify customer about insufficient\n",
    "balance."
   ]
  },
  {
   "cell_type": "code",
   "execution_count": 7,
   "id": "91766712",
   "metadata": {},
   "outputs": [],
   "source": [
    "class RegularAccount(BankAccount):\n",
    "    '''The RegularAccount class inherits BankAccount class and has penalty for balance below 3000.'''\n",
    "    def __init__(self, cid, cname, cbalance):\n",
    "        BankAccount.__init__(self, cid, cname, cbalance)\n",
    "        \n",
    "    def withdraw(self,amount):\n",
    "        '''This method allows to withdraw the money but also imposes penalty if the balance goes below 3000.'''\n",
    "        penalty = 20\n",
    "        if self.account_balance < amount:\n",
    "            print(\"You cannot withdraw this amount beacuse of insufficient balance.\")\n",
    "        elif (self.account_balance - amount) < 3000:\n",
    "            if (self.account_balance - amount) < 10:\n",
    "                print(\"Insufficient balance to deduct the penalty. So the amount could not be withdrawn.\")\n",
    "            else:\n",
    "                self.account_balance = self.account_balance - amount - 10\n",
    "                print(\"Your account balance falls below 3000 after withdrawal. So deducting penalty.\")\n",
    "                print(f\"Your account balance after withdrawal and penalty is {self.account_balance}\")\n",
    "        else:\n",
    "            self.account_balance = self.account_balance - amount\n",
    "            print(f\"The account balance after withdrawal is: {self.account_balance}\")"
   ]
  },
  {
   "cell_type": "code",
   "execution_count": 8,
   "id": "36fb4c6f",
   "metadata": {},
   "outputs": [
    {
     "name": "stdout",
     "output_type": "stream",
     "text": [
      "Your account balance falls below 3000 after withdrawal. So deducting penalty.\n",
      "Your account balance after withdrawal and penalty is 1990\n"
     ]
    }
   ],
   "source": [
    "r1 = RegularAccount(1003, \"Vidit 2\", 10000)\n",
    "r1.withdraw(8000)"
   ]
  }
 ],
 "metadata": {
  "kernelspec": {
   "display_name": "Python 3 (ipykernel)",
   "language": "python",
   "name": "python3"
  },
  "language_info": {
   "codemirror_mode": {
    "name": "ipython",
    "version": 3
   },
   "file_extension": ".py",
   "mimetype": "text/x-python",
   "name": "python",
   "nbconvert_exporter": "python",
   "pygments_lexer": "ipython3",
   "version": "3.9.13"
  }
 },
 "nbformat": 4,
 "nbformat_minor": 5
}
