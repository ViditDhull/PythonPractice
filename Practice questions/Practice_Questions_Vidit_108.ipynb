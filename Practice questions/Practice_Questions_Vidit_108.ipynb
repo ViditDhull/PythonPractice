{
 "cells": [
  {
   "cell_type": "markdown",
   "id": "d7c9b1f3-1194-43e2-903e-3233c28f9436",
   "metadata": {},
   "source": [
    "1. Create a class ElectricityBill with data members as customer number,\n",
    "customer name, units consumed and methods as follows:\n",
    "● show_data() - to display the customer details\n",
    "● compute_bill() - to calculate and return electricity charges to be paid.\n",
    "Calculate the bill as specified below:\n",
    "    Number of units                Charges/unit\n",
    "        < = 100                    Rs.1.20\n",
    "        for the next 200 units     Rs. 2.00\n",
    "        for the next 300 units     Rs. 3.00\n",
    "        for more                   Rs. 5.00\n",
    "ex: input = 320 units output = 100*1.20 +200*2.00+20*3.00 = Rs. 580"
   ]
  },
  {
   "cell_type": "code",
   "execution_count": 1,
   "id": "b9b4adc0-2540-4301-b2ea-c84ae4c35e40",
   "metadata": {},
   "outputs": [],
   "source": [
    "class ElectricityBill:\n",
    "    def __init__(self,number, name, units):\n",
    "        self.number = number\n",
    "        self.name = name\n",
    "        self.units = units\n",
    "        \n",
    "    def show_data(self):\n",
    "        print(\"The customer number is: \", self.number)\n",
    "        print(\"The customer name is: \", self.name)\n",
    "        print(\"The number of units consumed is: \", self.units)\n",
    "        \n",
    "    def compute_bill(self):\n",
    "        if self.units <= 100:\n",
    "            bill = self.units * 1.20\n",
    "        elif self.units>100 and self.units<=300:\n",
    "            bill = 100 * 1.2 + (self.units - 100) * 2.00\n",
    "        elif self.units>300 and self.units<= 600:\n",
    "            bill = 100 * 1.20 + 200 * 2.00 + (self.units - 300) * 3.00\n",
    "        else:\n",
    "            bill = 100 * 1.2 + 200 * 2.0 + 300 * 3.0 + (self.units - 600) * 5\n",
    "        \n",
    "        print(\"The total bill is: \", bill)"
   ]
  },
  {
   "cell_type": "code",
   "execution_count": 4,
   "id": "c757dc80-624f-422d-91bd-d1d99643426b",
   "metadata": {},
   "outputs": [
    {
     "name": "stdout",
     "output_type": "stream",
     "text": [
      "The customer number is:  1001\n",
      "The customer name is:  Customer 1\n",
      "The number of units consumed is:  150\n",
      "The total bill is:  220.0\n"
     ]
    }
   ],
   "source": [
    "c1 = ElectricityBill(1001, \"Customer 1\", 150)\n",
    "c1.show_data()\n",
    "c1.compute_bill()"
   ]
  },
  {
   "cell_type": "markdown",
   "id": "b857f1c7-9cf5-44a3-8cce-5c1d9973fcd8",
   "metadata": {},
   "source": [
    "2. Write a program to implement a simple calculator that can add, subtract, multiply\n",
    "and divide two integers. The program should handle two kinds of exceptions,\n",
    "ZeroDivisionError and ValueError."
   ]
  },
  {
   "cell_type": "code",
   "execution_count": 11,
   "id": "b9db728a-a360-46f5-83e1-f5c87312b334",
   "metadata": {},
   "outputs": [
    {
     "name": "stdin",
     "output_type": "stream",
     "text": [
      "Enter the first number:  12\n",
      "Enter the second number:  0\n",
      "Enter '+' for addition, '-' for substraction, '*' for multiplication and '/' for division. /\n"
     ]
    },
    {
     "name": "stdout",
     "output_type": "stream",
     "text": [
      "Cannot divide by zero.\n"
     ]
    }
   ],
   "source": [
    "num1 = float(input(\"Enter the first number: \"))\n",
    "num2 = float(input(\"Enter the second number: \"))\n",
    "opr = input(\"Enter '+' for addition, '-' for substraction, '*' for multiplication and '/' for division.\")\n",
    "try:\n",
    "    if opr == \"+\":\n",
    "        print(\"Result = \", num1 + num2)\n",
    "    elif opr == \"-\":\n",
    "        print(\"Result = \", num1 - num2)\n",
    "    elif opr == \"*\":\n",
    "        print(\"Result = \", num1 * num2)\n",
    "    elif opr == \"/\":\n",
    "        print(\"Result = \", num1 / num2)\n",
    "    else:\n",
    "        print(\"Unsupported operator.\")\n",
    "except ZeroDivisionError:\n",
    "    print(\"Cannot divide by zero.\")\n",
    "except ValueError:\n",
    "    print('Unappropriate value entered.')"
   ]
  },
  {
   "cell_type": "markdown",
   "id": "d5f06375-653a-4e7f-b19d-a88092015d01",
   "metadata": {},
   "source": [
    "3. In cryptography, a Caesar cipher is a very simple encryption technique in which\n",
    "each letter in the plain text is replaced by a letter some fixed number of positions\n",
    "down the alphabet. For example, with a shift of 3, A would be replaced by D, B\n",
    "would become E, and so on. The method is named after Julius Caesar, who used\n",
    "it to communicate with his generals. ROT-13 (\"rotate by 13 places\") is a widely\n",
    "used example of a Caesar cipher where the shift is 13. In Python, the key for\n",
    "ROT-13 may be represented by means of the following dictionary:\n",
    "\n",
    "key = {'a': 'n', 'b': 'o', 'c': 'p', 'd': 'q', 'e': 'r', 'f':\n",
    "'s', 'g': 't', 'h': 'u', 'i': 'v', 'T': 'G', 'k': 'x', 'm': 'z',\n",
    "'n': 'a', 'o': 'b', 'p': 'c', 'q': 'd', 'r': 'e', 's': 'f', 't':\n",
    "'g', 'u': 'h', 'v': 'i', 'w': 'j', 'x': 'k', 'y': 'l', 'z': 'm',\n",
    "'A': 'N', 'B': 'O', 'C': 'P', 'D': 'Q', 'E': 'R', 'F': 'S', 'G':\n",
    "'T', 'H': 'U', 'I': 'V', 'J': 'W', 'K': 'X', 'L': 'Y', 'M': 'Z',\n",
    "'N': 'A', 'O': 'B', 'P': 'C', 'Q': 'D', 'R': 'E', 'S': 'F', 'U':\n",
    "'H', 'V': 'T', 'W': 'J', 'X': 'K', 'Y': 'L', 'Z': 'M', 'l': 'y',\n",
    "'j': 'w'}\n",
    "\n",
    "Your task in this exercise is to implement an encoder/decoder of ROT-13. Once\n",
    "you're done, you will be able to read the following secret messages:\n",
    "    ● Pnrfne pvcure? Vbb zhpu, cersre Pnrfne fnynq!\n",
    "    ● V ybir zl Vaqvn\n",
    "    ● xnouv xuhfuv xnouv tunz, xnouv wnlnqn xnouv xnz\n",
    "Note that since English has 26 characters, your ROT-13 program will be able to\n",
    "both encode and decode texts written in English."
   ]
  },
  {
   "cell_type": "code",
   "execution_count": 26,
   "id": "aa423c60-76b9-47a0-87e2-dabf0fb926d0",
   "metadata": {},
   "outputs": [
    {
     "name": "stdin",
     "output_type": "stream",
     "text": [
      "Enter the sentence:  dgcieu wigerligfukw fgilk\n",
      "Enter 'E' for encoding and 'D' for decoding. e\n"
     ]
    },
    {
     "name": "stdout",
     "output_type": "stream",
     "text": [
      "qtpvrh jvtreyvtshxj stvyx\n"
     ]
    }
   ],
   "source": [
    "key = {'a': 'n', 'b': 'o', 'c': 'p', 'd': 'q', 'e': 'r', 'f':\n",
    "'s', 'g': 't', 'h': 'u', 'i': 'v', 'T': 'G', 'k': 'x', 'm': 'z',\n",
    "'n': 'a', 'o': 'b', 'p': 'c', 'q': 'd', 'r': 'e', 's': 'f', 't':\n",
    "'g', 'u': 'h', 'v': 'i', 'w': 'j', 'x': 'k', 'y': 'l', 'z': 'm',\n",
    "'A': 'N', 'B': 'O', 'C': 'P', 'D': 'Q', 'E': 'R', 'F': 'S', 'G':\n",
    "'T', 'H': 'U', 'I': 'V', 'J': 'W', 'K': 'X', 'L': 'Y', 'M': 'Z',\n",
    "'N': 'A', 'O': 'B', 'P': 'C', 'Q': 'D', 'R': 'E', 'S': 'F', 'U':\n",
    "'H', 'V': 'T', 'W': 'J', 'X': 'K', 'Y': 'L', 'Z': 'M', 'l': 'y',\n",
    "'j': 'w'}\n",
    "def encoder(sentence):\n",
    "    words = sentence.split()\n",
    "    keylist = []\n",
    "    for i in words:\n",
    "        keystring = ''\n",
    "        for j in i:\n",
    "            keys = key[j]\n",
    "            keystring = keystring + keys\n",
    "        keylist.append(keystring)\n",
    "        \n",
    "    encoded = \" \".join(keylist)\n",
    "    print(encoded)\n",
    "def decoder(sentence):\n",
    "    kwords = sentence.split()\n",
    "    valuelist = []\n",
    "    keys = list(key.keys())\n",
    "    vals = list(key.values())\n",
    "    for i in kwords:\n",
    "        valuestring = ''\n",
    "        for j in i:\n",
    "            try:\n",
    "                rkey = keys[vals.index(j)]\n",
    "            except:\n",
    "                rkey = j\n",
    "            valuestring = valuestring + rkey\n",
    "        valuelist.append(valuestring)\n",
    "    decoded = \" \".join(valuelist)\n",
    "    print(decoded)\n",
    "\n",
    "sentence = input(\"Enter the sentence: \")\n",
    "decision = input(\"Enter 'E' for encoding and 'D' for decoding.\")\n",
    "if decision.upper() == \"E\":\n",
    "    encoder(sentence)\n",
    "elif decision.upper() == \"D\":\n",
    "    decoder(sentence)\n",
    "else:\n",
    "    print(\"Action not supported.\")"
   ]
  },
  {
   "cell_type": "markdown",
   "id": "e08c9376-7c4c-4ca3-a8d3-d43fbad8d451",
   "metadata": {},
   "source": [
    "4. File zomato_blr_data.csv contains data about restaurants in Bengaluru\n",
    "from the Zomato website. Based on this data answer the following questions\n",
    "using pandas dataframe."
   ]
  },
  {
   "cell_type": "code",
   "execution_count": 2,
   "id": "e753c823-fa1b-4e24-97c9-87da368650fc",
   "metadata": {},
   "outputs": [],
   "source": [
    "import pandas as pd"
   ]
  },
  {
   "cell_type": "code",
   "execution_count": 23,
   "id": "5a3792e2-fb7c-4f10-b8ae-a17e9d564269",
   "metadata": {},
   "outputs": [],
   "source": [
    "df = pd.read_csv(\"zomato_blr_data.csv\")"
   ]
  },
  {
   "cell_type": "code",
   "execution_count": 29,
   "id": "136496c4-9c12-4d3b-9391-4799623143f4",
   "metadata": {},
   "outputs": [
    {
     "data": {
      "text/html": [
       "<div>\n",
       "<style scoped>\n",
       "    .dataframe tbody tr th:only-of-type {\n",
       "        vertical-align: middle;\n",
       "    }\n",
       "\n",
       "    .dataframe tbody tr th {\n",
       "        vertical-align: top;\n",
       "    }\n",
       "\n",
       "    .dataframe thead th {\n",
       "        text-align: right;\n",
       "    }\n",
       "</style>\n",
       "<table border=\"1\" class=\"dataframe\">\n",
       "  <thead>\n",
       "    <tr style=\"text-align: right;\">\n",
       "      <th></th>\n",
       "      <th>address</th>\n",
       "      <th>restaurant_name</th>\n",
       "      <th>online_order</th>\n",
       "      <th>book_table</th>\n",
       "      <th>rating</th>\n",
       "      <th>votes</th>\n",
       "      <th>phone</th>\n",
       "      <th>location</th>\n",
       "      <th>restaurant_type</th>\n",
       "      <th>dishes_liked</th>\n",
       "      <th>cuisines</th>\n",
       "      <th>approx_cost_for_two_people</th>\n",
       "    </tr>\n",
       "  </thead>\n",
       "  <tbody>\n",
       "    <tr>\n",
       "      <th>0</th>\n",
       "      <td>942, 21st Main Road, 2nd Stage, Banashankari, ...</td>\n",
       "      <td>Jalsa</td>\n",
       "      <td>Yes</td>\n",
       "      <td>Yes</td>\n",
       "      <td>4.1</td>\n",
       "      <td>775</td>\n",
       "      <td>080 42297555\\r\\n+91 9743772233</td>\n",
       "      <td>Banashankari</td>\n",
       "      <td>Casual Dining</td>\n",
       "      <td>Pasta, Lunch Buffet, Masala Papad, Paneer Laja...</td>\n",
       "      <td>North Indian, Mughlai, Chinese</td>\n",
       "      <td>800</td>\n",
       "    </tr>\n",
       "    <tr>\n",
       "      <th>1</th>\n",
       "      <td>2nd Floor, 80 Feet Road, Near Big Bazaar, 6th ...</td>\n",
       "      <td>Spice Elephant</td>\n",
       "      <td>Yes</td>\n",
       "      <td>No</td>\n",
       "      <td>4.1</td>\n",
       "      <td>787</td>\n",
       "      <td>080 41714161</td>\n",
       "      <td>Banashankari</td>\n",
       "      <td>Casual Dining</td>\n",
       "      <td>Momos, Lunch Buffet, Chocolate Nirvana, Thai G...</td>\n",
       "      <td>Chinese, North Indian, Thai</td>\n",
       "      <td>800</td>\n",
       "    </tr>\n",
       "    <tr>\n",
       "      <th>2</th>\n",
       "      <td>1112, Next to KIMS Medical College, 17th Cross...</td>\n",
       "      <td>San Churro Cafe</td>\n",
       "      <td>Yes</td>\n",
       "      <td>No</td>\n",
       "      <td>3.8</td>\n",
       "      <td>918</td>\n",
       "      <td>+91 9663487993</td>\n",
       "      <td>Banashankari</td>\n",
       "      <td>Cafe, Casual Dining</td>\n",
       "      <td>Churros, Cannelloni, Minestrone Soup, Hot Choc...</td>\n",
       "      <td>Cafe, Mexican, Italian</td>\n",
       "      <td>800</td>\n",
       "    </tr>\n",
       "    <tr>\n",
       "      <th>3</th>\n",
       "      <td>1st Floor, Annakuteera, 3rd Stage, Banashankar...</td>\n",
       "      <td>Addhuri Udupi Bhojana</td>\n",
       "      <td>No</td>\n",
       "      <td>No</td>\n",
       "      <td>3.7</td>\n",
       "      <td>88</td>\n",
       "      <td>+91 9620009302</td>\n",
       "      <td>Banashankari</td>\n",
       "      <td>Quick Bites</td>\n",
       "      <td>Masala Dosa</td>\n",
       "      <td>South Indian, North Indian</td>\n",
       "      <td>300</td>\n",
       "    </tr>\n",
       "    <tr>\n",
       "      <th>4</th>\n",
       "      <td>10, 3rd Floor, Lakshmi Associates, Gandhi Baza...</td>\n",
       "      <td>Grand Village</td>\n",
       "      <td>No</td>\n",
       "      <td>No</td>\n",
       "      <td>3.8</td>\n",
       "      <td>166</td>\n",
       "      <td>+91 8026612447\\r\\n+91 9901210005</td>\n",
       "      <td>Basavanagudi</td>\n",
       "      <td>Casual Dining</td>\n",
       "      <td>Panipuri, Gol Gappe</td>\n",
       "      <td>North Indian, Rajasthani</td>\n",
       "      <td>600</td>\n",
       "    </tr>\n",
       "    <tr>\n",
       "      <th>...</th>\n",
       "      <td>...</td>\n",
       "      <td>...</td>\n",
       "      <td>...</td>\n",
       "      <td>...</td>\n",
       "      <td>...</td>\n",
       "      <td>...</td>\n",
       "      <td>...</td>\n",
       "      <td>...</td>\n",
       "      <td>...</td>\n",
       "      <td>...</td>\n",
       "      <td>...</td>\n",
       "      <td>...</td>\n",
       "    </tr>\n",
       "    <tr>\n",
       "      <th>11700</th>\n",
       "      <td>Arya Hub Mall, ITPL Main Road, Whitefield</td>\n",
       "      <td>Little Onnion</td>\n",
       "      <td>Yes</td>\n",
       "      <td>No</td>\n",
       "      <td>3.8</td>\n",
       "      <td>134</td>\n",
       "      <td>+91 7780502068\\n+91 9963081629</td>\n",
       "      <td>ITPL Main Road, Whitefield</td>\n",
       "      <td>Casual Dining</td>\n",
       "      <td>Vegetable Biryani, Dum Biryani, Kheer</td>\n",
       "      <td>Biryani, Andhra</td>\n",
       "      <td>500</td>\n",
       "    </tr>\n",
       "    <tr>\n",
       "      <th>11701</th>\n",
       "      <td>95, EPIP Zone, ITPL Main Road, Whitefield</td>\n",
       "      <td>Breakfast House</td>\n",
       "      <td>No</td>\n",
       "      <td>No</td>\n",
       "      <td>3.6</td>\n",
       "      <td>49</td>\n",
       "      <td>080 28413047\\n+91 9900020540</td>\n",
       "      <td>ITPL Main Road, Whitefield</td>\n",
       "      <td>Quick Bites</td>\n",
       "      <td>Coffee, Vada, Mla Dosa</td>\n",
       "      <td>South Indian, North Indian</td>\n",
       "      <td>300</td>\n",
       "    </tr>\n",
       "    <tr>\n",
       "      <th>11702</th>\n",
       "      <td>Food Court, Ascendas Park Square Mall, Whitefi...</td>\n",
       "      <td>Fujian Express</td>\n",
       "      <td>Yes</td>\n",
       "      <td>No</td>\n",
       "      <td>3.8</td>\n",
       "      <td>182</td>\n",
       "      <td>+91 7760075458\\n+91 9591852291</td>\n",
       "      <td>ITPL Main Road, Whitefield</td>\n",
       "      <td>Food Court</td>\n",
       "      <td>Noodles, Chicken Noodle, Momos, American Chops...</td>\n",
       "      <td>Thai, Chinese, Momos</td>\n",
       "      <td>600</td>\n",
       "    </tr>\n",
       "    <tr>\n",
       "      <th>11703</th>\n",
       "      <td>Cessna Business Park, Sarjapur ÃÂÃÂÃÂÃÂ...</td>\n",
       "      <td>Nook - Aloft Bengaluru Cessna Business Park</td>\n",
       "      <td>No</td>\n",
       "      <td>Yes</td>\n",
       "      <td>4.2</td>\n",
       "      <td>411</td>\n",
       "      <td>+91 9663517066\\n+91 9686861135</td>\n",
       "      <td>Bellandur</td>\n",
       "      <td>Casual Dining</td>\n",
       "      <td>Chicken Quesadilla, Naan, Breakfast Buffet, Ch...</td>\n",
       "      <td>North Indian, Continental, Asian</td>\n",
       "      <td>1,800</td>\n",
       "    </tr>\n",
       "    <tr>\n",
       "      <th>11704</th>\n",
       "      <td>139/C1, Next To GR Tech Park, Pattandur Agraha...</td>\n",
       "      <td>Bhagini</td>\n",
       "      <td>No</td>\n",
       "      <td>No</td>\n",
       "      <td>2.5</td>\n",
       "      <td>81</td>\n",
       "      <td>080 65951222</td>\n",
       "      <td>Whitefield</td>\n",
       "      <td>Casual Dining, Bar</td>\n",
       "      <td>Biryani, Andhra Meal</td>\n",
       "      <td>Andhra, South Indian, Chinese, North Indian</td>\n",
       "      <td>800</td>\n",
       "    </tr>\n",
       "  </tbody>\n",
       "</table>\n",
       "<p>11705 rows × 12 columns</p>\n",
       "</div>"
      ],
      "text/plain": [
       "                                                 address  \\\n",
       "0      942, 21st Main Road, 2nd Stage, Banashankari, ...   \n",
       "1      2nd Floor, 80 Feet Road, Near Big Bazaar, 6th ...   \n",
       "2      1112, Next to KIMS Medical College, 17th Cross...   \n",
       "3      1st Floor, Annakuteera, 3rd Stage, Banashankar...   \n",
       "4      10, 3rd Floor, Lakshmi Associates, Gandhi Baza...   \n",
       "...                                                  ...   \n",
       "11700          Arya Hub Mall, ITPL Main Road, Whitefield   \n",
       "11701          95, EPIP Zone, ITPL Main Road, Whitefield   \n",
       "11702  Food Court, Ascendas Park Square Mall, Whitefi...   \n",
       "11703  Cessna Business Park, Sarjapur ÃÂÃÂÃÂÃÂ...   \n",
       "11704  139/C1, Next To GR Tech Park, Pattandur Agraha...   \n",
       "\n",
       "                                   restaurant_name online_order book_table  \\\n",
       "0                                            Jalsa          Yes        Yes   \n",
       "1                                   Spice Elephant          Yes         No   \n",
       "2                                  San Churro Cafe          Yes         No   \n",
       "3                            Addhuri Udupi Bhojana           No         No   \n",
       "4                                    Grand Village           No         No   \n",
       "...                                            ...          ...        ...   \n",
       "11700                                Little Onnion          Yes         No   \n",
       "11701                              Breakfast House           No         No   \n",
       "11702                               Fujian Express          Yes         No   \n",
       "11703  Nook - Aloft Bengaluru Cessna Business Park           No        Yes   \n",
       "11704                                      Bhagini           No         No   \n",
       "\n",
       "       rating  votes                             phone  \\\n",
       "0         4.1    775    080 42297555\\r\\n+91 9743772233   \n",
       "1         4.1    787                      080 41714161   \n",
       "2         3.8    918                    +91 9663487993   \n",
       "3         3.7     88                    +91 9620009302   \n",
       "4         3.8    166  +91 8026612447\\r\\n+91 9901210005   \n",
       "...       ...    ...                               ...   \n",
       "11700     3.8    134    +91 7780502068\\n+91 9963081629   \n",
       "11701     3.6     49      080 28413047\\n+91 9900020540   \n",
       "11702     3.8    182    +91 7760075458\\n+91 9591852291   \n",
       "11703     4.2    411    +91 9663517066\\n+91 9686861135   \n",
       "11704     2.5     81                      080 65951222   \n",
       "\n",
       "                         location      restaurant_type  \\\n",
       "0                    Banashankari        Casual Dining   \n",
       "1                    Banashankari        Casual Dining   \n",
       "2                    Banashankari  Cafe, Casual Dining   \n",
       "3                    Banashankari          Quick Bites   \n",
       "4                    Basavanagudi        Casual Dining   \n",
       "...                           ...                  ...   \n",
       "11700  ITPL Main Road, Whitefield        Casual Dining   \n",
       "11701  ITPL Main Road, Whitefield          Quick Bites   \n",
       "11702  ITPL Main Road, Whitefield           Food Court   \n",
       "11703                   Bellandur        Casual Dining   \n",
       "11704                  Whitefield   Casual Dining, Bar   \n",
       "\n",
       "                                            dishes_liked  \\\n",
       "0      Pasta, Lunch Buffet, Masala Papad, Paneer Laja...   \n",
       "1      Momos, Lunch Buffet, Chocolate Nirvana, Thai G...   \n",
       "2      Churros, Cannelloni, Minestrone Soup, Hot Choc...   \n",
       "3                                            Masala Dosa   \n",
       "4                                    Panipuri, Gol Gappe   \n",
       "...                                                  ...   \n",
       "11700              Vegetable Biryani, Dum Biryani, Kheer   \n",
       "11701                             Coffee, Vada, Mla Dosa   \n",
       "11702  Noodles, Chicken Noodle, Momos, American Chops...   \n",
       "11703  Chicken Quesadilla, Naan, Breakfast Buffet, Ch...   \n",
       "11704                               Biryani, Andhra Meal   \n",
       "\n",
       "                                          cuisines approx_cost_for_two_people  \n",
       "0                   North Indian, Mughlai, Chinese                        800  \n",
       "1                      Chinese, North Indian, Thai                        800  \n",
       "2                           Cafe, Mexican, Italian                        800  \n",
       "3                       South Indian, North Indian                        300  \n",
       "4                         North Indian, Rajasthani                        600  \n",
       "...                                            ...                        ...  \n",
       "11700                              Biryani, Andhra                        500  \n",
       "11701                   South Indian, North Indian                        300  \n",
       "11702                         Thai, Chinese, Momos                        600  \n",
       "11703             North Indian, Continental, Asian                      1,800  \n",
       "11704  Andhra, South Indian, Chinese, North Indian                        800  \n",
       "\n",
       "[11705 rows x 12 columns]"
      ]
     },
     "execution_count": 29,
     "metadata": {},
     "output_type": "execute_result"
    }
   ],
   "source": [
    "df"
   ]
  },
  {
   "cell_type": "markdown",
   "id": "634f3a4c-b027-4f6a-bc0d-c05520c75b84",
   "metadata": {},
   "source": [
    "a. How many Domino's Pizza outlets are in Bengaluru?\n"
   ]
  },
  {
   "cell_type": "code",
   "execution_count": 31,
   "id": "8fd20b1f-45db-494d-8ddf-b9c2629f5b4d",
   "metadata": {},
   "outputs": [
    {
     "data": {
      "text/plain": [
       "47"
      ]
     },
     "execution_count": 31,
     "metadata": {},
     "output_type": "execute_result"
    }
   ],
   "source": [
    "df[(df.restaurant_name == \"Domino's Pizza\")].address.str.contains(\"Bangalore\").sum()"
   ]
  },
  {
   "cell_type": "markdown",
   "id": "efccd4ce-07a7-4cff-b7e4-0e81073ea035",
   "metadata": {},
   "source": [
    "b. Which location in Bengaluru has the highest number of restaurants with\n",
    "North Indian cuisine?"
   ]
  },
  {
   "cell_type": "code",
   "execution_count": 44,
   "id": "bb9b2e32-22b3-478b-b042-e09a9f8fa405",
   "metadata": {},
   "outputs": [
    {
     "data": {
      "text/plain": [
       "0    BTM\n",
       "Name: location, dtype: object"
      ]
     },
     "execution_count": 44,
     "metadata": {},
     "output_type": "execute_result"
    }
   ],
   "source": [
    "df[(df.address.str.contains(\"Bangalore\")) & (df.cuisines.str.contains(\"North Indian\"))].location.mode()"
   ]
  },
  {
   "cell_type": "markdown",
   "id": "00e535c7-83aa-438c-ba3d-fcc5082db50e",
   "metadata": {},
   "source": [
    "c. Which are the highest-rated restaurants in Whitefield?"
   ]
  },
  {
   "cell_type": "code",
   "execution_count": 25,
   "id": "073b8373-81bd-43d8-b49b-28105c6e154b",
   "metadata": {},
   "outputs": [
    {
     "data": {
      "text/plain": [
       "1906        Flechazo\n",
       "2089    Punjab Grill\n",
       "Name: restaurant_name, dtype: object"
      ]
     },
     "execution_count": 25,
     "metadata": {},
     "output_type": "execute_result"
    }
   ],
   "source": [
    "df[(df.location == \"Whitefield\") & (df.rating == df.rating.max())].restaurant_name"
   ]
  },
  {
   "cell_type": "markdown",
   "id": "a22cd4ef-bdd9-4c75-842b-6b0fcfc94615",
   "metadata": {
    "tags": []
   },
   "source": [
    "5. File \"airports.csv\" contains data on airports around the world. Load this file in\n",
    "a pandas dataframe and based on this data answer the following questions:"
   ]
  },
  {
   "cell_type": "code",
   "execution_count": 3,
   "id": "539a4bab-ebaf-4fe5-829b-7f2995dcc152",
   "metadata": {},
   "outputs": [],
   "source": [
    "df = pd.read_csv(\"airports.csv\")"
   ]
  },
  {
   "cell_type": "markdown",
   "id": "233febde-2523-43f9-951a-cb986032d314",
   "metadata": {},
   "source": [
    "a. Find out the country in each continent having the highest number of\n",
    "airports?"
   ]
  },
  {
   "cell_type": "code",
   "execution_count": 3,
   "id": "7bbeffb8-ba2f-4a5c-b89e-35125aeb3ddf",
   "metadata": {},
   "outputs": [
    {
     "data": {
      "text/plain": [
       "continent\n",
       "AN                   Antarctica\n",
       "Africa             South Africa\n",
       "Asia                      Japan\n",
       "Europe           United Kingdom\n",
       "North America     United States\n",
       "Oceania               Australia\n",
       "South America            Brazil\n",
       "Name: country, dtype: object"
      ]
     },
     "execution_count": 3,
     "metadata": {},
     "output_type": "execute_result"
    }
   ],
   "source": [
    "df.groupby('continent').country.agg(pd.Series.mode)"
   ]
  },
  {
   "cell_type": "markdown",
   "id": "31e6e4ee-b12b-4443-a631-71dbc659c6f5",
   "metadata": {},
   "source": [
    "b. Which state in India has the highest number of Airports?"
   ]
  },
  {
   "cell_type": "code",
   "execution_count": 4,
   "id": "5d619e34-4c74-4300-b2b6-4ec3ccc9e057",
   "metadata": {},
   "outputs": [
    {
     "data": {
      "text/plain": [
       "0    IN-MM\n",
       "Name: state, dtype: object"
      ]
     },
     "execution_count": 4,
     "metadata": {},
     "output_type": "execute_result"
    }
   ],
   "source": [
    "df[df.country == 'India'].state.mode()"
   ]
  },
  {
   "cell_type": "markdown",
   "id": "b5341756-3575-4b57-be8d-d2c35de7650c",
   "metadata": {},
   "source": [
    "c. Which states in India have more than one large airport?"
   ]
  },
  {
   "cell_type": "code",
   "execution_count": 10,
   "id": "0a5c9eca-35cb-4e22-8d22-60d0ee201748",
   "metadata": {},
   "outputs": [],
   "source": [
    "import numpy as np"
   ]
  },
  {
   "cell_type": "code",
   "execution_count": 11,
   "id": "1be1421c-0208-499e-862c-fc388fd366b8",
   "metadata": {},
   "outputs": [
    {
     "data": {
      "text/plain": [
       "IN-KL    3\n",
       "Name: state, dtype: int64"
      ]
     },
     "execution_count": 11,
     "metadata": {},
     "output_type": "execute_result"
    }
   ],
   "source": [
    "df[(df.country == \"India\") & (df.airport_type == \"large_airport\")].state.value_counts().head(1)"
   ]
  }
 ],
 "metadata": {
  "kernelspec": {
   "display_name": "Python 3 (ipykernel)",
   "language": "python",
   "name": "python3"
  },
  "language_info": {
   "codemirror_mode": {
    "name": "ipython",
    "version": 3
   },
   "file_extension": ".py",
   "mimetype": "text/x-python",
   "name": "python",
   "nbconvert_exporter": "python",
   "pygments_lexer": "ipython3",
   "version": "3.9.12"
  }
 },
 "nbformat": 4,
 "nbformat_minor": 5
}
