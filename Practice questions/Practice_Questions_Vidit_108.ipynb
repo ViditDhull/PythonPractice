{
 "cells": [
  {
   "cell_type": "markdown",
   "id": "d7c9b1f3-1194-43e2-903e-3233c28f9436",
   "metadata": {},
   "source": [
    "1. Create a class ElectricityBill with data members as customer number,\n",
    "customer name, units consumed and methods as follows:\n",
    "● show_data() - to display the customer details\n",
    "● compute_bill() - to calculate and return electricity charges to be paid.\n",
    "Calculate the bill as specified below:\n",
    "    Number of units                Charges/unit\n",
    "        < = 100                    Rs.1.20\n",
    "        for the next 200 units     Rs. 2.00\n",
    "        for the next 300 units     Rs. 3.00\n",
    "        for more                   Rs. 5.00\n",
    "ex: input = 320 units output = 100*1.20 +200*2.00+20*3.00 = Rs. 580"
   ]
  },
  {
   "cell_type": "code",
   "execution_count": 61,
   "id": "b9b4adc0-2540-4301-b2ea-c84ae4c35e40",
   "metadata": {},
   "outputs": [],
   "source": [
    "class ElectricityBill:\n",
    "    def __init__(self,number, name, units):\n",
    "        self.number = number\n",
    "        self.name = name\n",
    "        self.units = units\n",
    "        \n",
    "    def show_data(self):\n",
    "        print(\"The customer number is: \", self.number)\n",
    "        print(\"The customer name is: \", self.name)\n",
    "        print(\"The number of units consumed is: \", self.units)\n",
    "        \n",
    "    def compute_bill(self):\n",
    "        if self.units <= 100:\n",
    "            bill = self.units * 1.20\n",
    "        elif self.units>100 and self.units<=300:\n",
    "            bill = 100 * 1.2 + (self.units - 100) * 2.00\n",
    "        elif self.units>300 and self.units<= 600:\n",
    "            bill = 100 * 1.20 + 200 * 2.00 + (self.units - 300) * 3.00\n",
    "        else:\n",
    "            bill = 100 * 1.2 + 200 * 2.0 + 300 * 3.0 + (self.units - 600) * 5\n",
    "        \n",
    "        print(\"The total bill is: \", bill)"
   ]
  },
  {
   "cell_type": "code",
   "execution_count": 62,
   "id": "c757dc80-624f-422d-91bd-d1d99643426b",
   "metadata": {},
   "outputs": [
    {
     "name": "stdout",
     "output_type": "stream",
     "text": [
      "The customer number is:  1001\n",
      "The customer name is:  Customer 1\n",
      "The number of units consumed is:  150\n",
      "The total bill is:  220.0\n"
     ]
    }
   ],
   "source": [
    "c1 = ElectricityBill(1001, \"Customer 1\", 150)\n",
    "c1.show_data()\n",
    "c1.compute_bill()"
   ]
  },
  {
   "cell_type": "markdown",
   "id": "b857f1c7-9cf5-44a3-8cce-5c1d9973fcd8",
   "metadata": {},
   "source": [
    "2. Write a program to implement a simple calculator that can add, subtract, multiply\n",
    "and divide two integers. The program should handle two kinds of exceptions,\n",
    "ZeroDivisionError and ValueError."
   ]
  },
  {
   "cell_type": "code",
   "execution_count": 63,
   "id": "b9db728a-a360-46f5-83e1-f5c87312b334",
   "metadata": {},
   "outputs": [
    {
     "name": "stdin",
     "output_type": "stream",
     "text": [
      "Enter the first number:  5\n",
      "Enter the second number:  6\n",
      "Enter '+' for addition, '-' for substraction, '*' for multiplication and '/' for division. *\n"
     ]
    },
    {
     "name": "stdout",
     "output_type": "stream",
     "text": [
      "Result =  30.0\n"
     ]
    }
   ],
   "source": [
    "num1 = float(input(\"Enter the first number: \"))\n",
    "num2 = float(input(\"Enter the second number: \"))\n",
    "opr = input(\"Enter '+' for addition, '-' for substraction, '*' for multiplication and '/' for division.\")\n",
    "try:\n",
    "    if opr == \"+\":\n",
    "        print(\"Result = \", num1 + num2)\n",
    "    elif opr == \"-\":\n",
    "        print(\"Result = \", num1 - num2)\n",
    "    elif opr == \"*\":\n",
    "        print(\"Result = \", num1 * num2)\n",
    "    elif opr == \"/\":\n",
    "        print(\"Result = \", num1 / num2)\n",
    "    else:\n",
    "        print(\"Unsupported operator.\")\n",
    "except ZeroDivisionError:\n",
    "    print(\"Cannot divide by zero.\")\n",
    "except ValueError:\n",
    "    print('Unappropriate value entered.')"
   ]
  },
  {
   "cell_type": "markdown",
   "id": "d5f06375-653a-4e7f-b19d-a88092015d01",
   "metadata": {},
   "source": [
    "3. In cryptography, a Caesar cipher is a very simple encryption technique in which\n",
    "each letter in the plain text is replaced by a letter some fixed number of positions\n",
    "down the alphabet. For example, with a shift of 3, A would be replaced by D, B\n",
    "would become E, and so on. The method is named after Julius Caesar, who used\n",
    "it to communicate with his generals. ROT-13 (\"rotate by 13 places\") is a widely\n",
    "used example of a Caesar cipher where the shift is 13. In Python, the key for\n",
    "ROT-13 may be represented by means of the following dictionary:\n",
    "\n",
    "key = {'a': 'n', 'b': 'o', 'c': 'p', 'd': 'q', 'e': 'r', 'f':\n",
    "'s', 'g': 't', 'h': 'u', 'i': 'v', 'T': 'G', 'k': 'x', 'm': 'z',\n",
    "'n': 'a', 'o': 'b', 'p': 'c', 'q': 'd', 'r': 'e', 's': 'f', 't':\n",
    "'g', 'u': 'h', 'v': 'i', 'w': 'j', 'x': 'k', 'y': 'l', 'z': 'm',\n",
    "'A': 'N', 'B': 'O', 'C': 'P', 'D': 'Q', 'E': 'R', 'F': 'S', 'G':\n",
    "'T', 'H': 'U', 'I': 'V', 'J': 'W', 'K': 'X', 'L': 'Y', 'M': 'Z',\n",
    "'N': 'A', 'O': 'B', 'P': 'C', 'Q': 'D', 'R': 'E', 'S': 'F', 'U':\n",
    "'H', 'V': 'T', 'W': 'J', 'X': 'K', 'Y': 'L', 'Z': 'M', 'l': 'y',\n",
    "'j': 'w'}\n",
    "\n",
    "Your task in this exercise is to implement an encoder/decoder of ROT-13. Once\n",
    "you're done, you will be able to read the following secret messages:\n",
    "    ● Pnrfne pvcure? Vbb zhpu, cersre Pnrfne fnynq!\n",
    "    ● V ybir zl Vaqvn\n",
    "    ● xnouv xuhfuv xnouv tunz, xnouv wnlnqn xnouv xnz\n",
    "Note that since English has 26 characters, your ROT-13 program will be able to\n",
    "both encode and decode texts written in English."
   ]
  },
  {
   "cell_type": "code",
   "execution_count": 64,
   "id": "aa423c60-76b9-47a0-87e2-dabf0fb926d0",
   "metadata": {},
   "outputs": [
    {
     "name": "stdin",
     "output_type": "stream",
     "text": [
      "Enter the sentence:  gsdgfguG FGSU GFU GF  \n",
      "Enter 'E' for encoding and 'D' for decoding. E\n"
     ]
    },
    {
     "name": "stdout",
     "output_type": "stream",
     "text": [
      "tfqtsthT STFH TSH TS\n"
     ]
    }
   ],
   "source": [
    "key = {'a': 'n', 'b': 'o', 'c': 'p', 'd': 'q', 'e': 'r', 'f':\n",
    "'s', 'g': 't', 'h': 'u', 'i': 'v', 'T': 'G', 'k': 'x', 'm': 'z',\n",
    "'n': 'a', 'o': 'b', 'p': 'c', 'q': 'd', 'r': 'e', 's': 'f', 't':\n",
    "'g', 'u': 'h', 'v': 'i', 'w': 'j', 'x': 'k', 'y': 'l', 'z': 'm',\n",
    "'A': 'N', 'B': 'O', 'C': 'P', 'D': 'Q', 'E': 'R', 'F': 'S', 'G':\n",
    "'T', 'H': 'U', 'I': 'V', 'J': 'W', 'K': 'X', 'L': 'Y', 'M': 'Z',\n",
    "'N': 'A', 'O': 'B', 'P': 'C', 'Q': 'D', 'R': 'E', 'S': 'F', 'U':\n",
    "'H', 'V': 'T', 'W': 'J', 'X': 'K', 'Y': 'L', 'Z': 'M', 'l': 'y',\n",
    "'j': 'w'}\n",
    "def encoder(sentence):\n",
    "    words = sentence.split()\n",
    "    keylist = []\n",
    "    for i in words:\n",
    "        keystring = ''\n",
    "        for j in i:\n",
    "            keys = key[j]\n",
    "            keystring = keystring + keys\n",
    "        keylist.append(keystring)\n",
    "        \n",
    "    encoded = \" \".join(keylist)\n",
    "    print(encoded)\n",
    "def decoder(sentence):\n",
    "    kwords = sentence.split()\n",
    "    valuelist = []\n",
    "    keys = list(key.keys())\n",
    "    vals = list(key.values())\n",
    "    for i in kwords:\n",
    "        valuestring = ''\n",
    "        for j in i:\n",
    "            try:\n",
    "                rkey = keys[vals.index(j)]\n",
    "            except:\n",
    "                rkey = j\n",
    "            valuestring = valuestring + rkey\n",
    "        valuelist.append(valuestring)\n",
    "    decoded = \" \".join(valuelist)\n",
    "    print(decoded)\n",
    "\n",
    "sentence = input(\"Enter the sentence: \")\n",
    "decision = input(\"Enter 'E' for encoding and 'D' for decoding.\")\n",
    "if decision.upper() == \"E\":\n",
    "    encoder(sentence)\n",
    "elif decision.upper() == \"D\":\n",
    "    decoder(sentence)\n",
    "else:\n",
    "    print(\"Action not supported.\")"
   ]
  },
  {
   "cell_type": "markdown",
   "id": "e08c9376-7c4c-4ca3-a8d3-d43fbad8d451",
   "metadata": {},
   "source": [
    "4. File zomato_blr_data.csv contains data about restaurants in Bengaluru\n",
    "from the Zomato website. Based on this data answer the following questions\n",
    "using pandas dataframe."
   ]
  },
  {
   "cell_type": "code",
   "execution_count": 65,
   "id": "e753c823-fa1b-4e24-97c9-87da368650fc",
   "metadata": {},
   "outputs": [],
   "source": [
    "import pandas as pd"
   ]
  },
  {
   "cell_type": "code",
   "execution_count": 66,
   "id": "5a3792e2-fb7c-4f10-b8ae-a17e9d564269",
   "metadata": {},
   "outputs": [],
   "source": [
    "df = pd.read_csv(\"zomato_blr_data.csv\")"
   ]
  },
  {
   "cell_type": "markdown",
   "id": "634f3a4c-b027-4f6a-bc0d-c05520c75b84",
   "metadata": {},
   "source": [
    "a. How many Domino's Pizza outlets are in Bengaluru?\n"
   ]
  },
  {
   "cell_type": "code",
   "execution_count": 67,
   "id": "8fd20b1f-45db-494d-8ddf-b9c2629f5b4d",
   "metadata": {},
   "outputs": [
    {
     "data": {
      "text/plain": [
       "47"
      ]
     },
     "execution_count": 67,
     "metadata": {},
     "output_type": "execute_result"
    }
   ],
   "source": [
    "df[(df.restaurant_name == \"Domino's Pizza\")].address.str.contains(\"Bangalore\").sum()"
   ]
  },
  {
   "cell_type": "markdown",
   "id": "efccd4ce-07a7-4cff-b7e4-0e81073ea035",
   "metadata": {},
   "source": [
    "b. Which location in Bengaluru has the highest number of restaurants with\n",
    "North Indian cuisine?"
   ]
  },
  {
   "cell_type": "code",
   "execution_count": 68,
   "id": "bb9b2e32-22b3-478b-b042-e09a9f8fa405",
   "metadata": {},
   "outputs": [
    {
     "data": {
      "text/plain": [
       "0    BTM\n",
       "Name: location, dtype: object"
      ]
     },
     "execution_count": 68,
     "metadata": {},
     "output_type": "execute_result"
    }
   ],
   "source": [
    "df[(df.address.str.contains(\"Bangalore\")) & (df.cuisines.str.contains(\"North Indian\"))].location.mode()"
   ]
  },
  {
   "cell_type": "markdown",
   "id": "00e535c7-83aa-438c-ba3d-fcc5082db50e",
   "metadata": {},
   "source": [
    "c. Which are the highest-rated restaurants in Whitefield?"
   ]
  },
  {
   "cell_type": "code",
   "execution_count": 69,
   "id": "073b8373-81bd-43d8-b49b-28105c6e154b",
   "metadata": {},
   "outputs": [
    {
     "data": {
      "text/plain": [
       "1906        Flechazo\n",
       "2089    Punjab Grill\n",
       "Name: restaurant_name, dtype: object"
      ]
     },
     "execution_count": 69,
     "metadata": {},
     "output_type": "execute_result"
    }
   ],
   "source": [
    "df[(df.location == \"Whitefield\") & (df.rating == df.rating.max())].restaurant_name"
   ]
  },
  {
   "cell_type": "markdown",
   "id": "a22cd4ef-bdd9-4c75-842b-6b0fcfc94615",
   "metadata": {
    "tags": []
   },
   "source": [
    "5. File \"airports.csv\" contains data on airports around the world. Load this file in\n",
    "a pandas dataframe and based on this data answer the following questions:"
   ]
  },
  {
   "cell_type": "code",
   "execution_count": 70,
   "id": "539a4bab-ebaf-4fe5-829b-7f2995dcc152",
   "metadata": {},
   "outputs": [],
   "source": [
    "df = pd.read_csv(\"airports.csv\")"
   ]
  },
  {
   "cell_type": "markdown",
   "id": "233febde-2523-43f9-951a-cb986032d314",
   "metadata": {},
   "source": [
    "a. Find out the country in each continent having the highest number of\n",
    "airports?"
   ]
  },
  {
   "cell_type": "code",
   "execution_count": 71,
   "id": "7bbeffb8-ba2f-4a5c-b89e-35125aeb3ddf",
   "metadata": {},
   "outputs": [
    {
     "data": {
      "text/plain": [
       "continent\n",
       "AN                   Antarctica\n",
       "Africa             South Africa\n",
       "Asia                      Japan\n",
       "Europe           United Kingdom\n",
       "North America     United States\n",
       "Oceania               Australia\n",
       "South America            Brazil\n",
       "Name: country, dtype: object"
      ]
     },
     "execution_count": 71,
     "metadata": {},
     "output_type": "execute_result"
    }
   ],
   "source": [
    "df.groupby('continent').country.agg(pd.Series.mode)"
   ]
  },
  {
   "cell_type": "markdown",
   "id": "31e6e4ee-b12b-4443-a631-71dbc659c6f5",
   "metadata": {},
   "source": [
    "b. Which state in India has the highest number of Airports?"
   ]
  },
  {
   "cell_type": "code",
   "execution_count": 72,
   "id": "5d619e34-4c74-4300-b2b6-4ec3ccc9e057",
   "metadata": {},
   "outputs": [
    {
     "data": {
      "text/plain": [
       "0    IN-MM\n",
       "Name: state, dtype: object"
      ]
     },
     "execution_count": 72,
     "metadata": {},
     "output_type": "execute_result"
    }
   ],
   "source": [
    "df[df.country == 'India'].state.mode()"
   ]
  },
  {
   "cell_type": "markdown",
   "id": "b5341756-3575-4b57-be8d-d2c35de7650c",
   "metadata": {},
   "source": [
    "c. Which states in India have more than one large airport?"
   ]
  },
  {
   "cell_type": "code",
   "execution_count": 73,
   "id": "1be1421c-0208-499e-862c-fc388fd366b8",
   "metadata": {},
   "outputs": [
    {
     "data": {
      "text/plain": [
       "IN-KL    3\n",
       "Name: state, dtype: int64"
      ]
     },
     "execution_count": 73,
     "metadata": {},
     "output_type": "execute_result"
    }
   ],
   "source": [
    "df[(df.country == \"India\") & (df.airport_type == \"large_airport\")].state.value_counts().head(1)"
   ]
  },
  {
   "cell_type": "markdown",
   "id": "1248406e-6712-4fd0-a3de-969f25776839",
   "metadata": {},
   "source": [
    "6. Data file Top_650-FIFA.csv contains data of top 650 players in FIFA 22.\n",
    "    Based on this data answer the following questions using pandas dataframe:"
   ]
  },
  {
   "cell_type": "code",
   "execution_count": 74,
   "id": "072cc7d5-8d8b-4af6-b0b8-5ebb35fedab5",
   "metadata": {},
   "outputs": [],
   "source": [
    "df = pd.read_csv('Top_650-FIFA.csv')"
   ]
  },
  {
   "cell_type": "markdown",
   "id": "8690ba0a-7516-4cba-959f-963f3a88804d",
   "metadata": {},
   "source": [
    "a. Who is the French defender player for Manchester United?"
   ]
  },
  {
   "cell_type": "code",
   "execution_count": 75,
   "id": "e1a2bbc9-a2ea-4661-a6bd-a3114a0331c5",
   "metadata": {},
   "outputs": [
    {
     "data": {
      "text/plain": [
       "53    Raphaël Varane\n",
       "Name: long_name, dtype: object"
      ]
     },
     "execution_count": 75,
     "metadata": {},
     "output_type": "execute_result"
    }
   ],
   "source": [
    "df[(df.nationality_name == 'France') & (df.Position == \"Defender\") & (df.club_name == \"Manchester United\")].long_name"
   ]
  },
  {
   "cell_type": "markdown",
   "id": "f0388785-c897-4daf-85aa-f082f229ee80",
   "metadata": {},
   "source": [
    "b. Find the name of the Player with maximum height, who was born in the\n",
    "80s."
   ]
  },
  {
   "cell_type": "code",
   "execution_count": 76,
   "id": "b70caed6-9298-4946-816c-c0d2ba89bdba",
   "metadata": {},
   "outputs": [
    {
     "data": {
      "text/plain": [
       "22            Erling Braut Haaland\n",
       "108          Gerard Piqué Bernabéu\n",
       "118                  Harry Maguire\n",
       "159           Joël Andre Job Matip\n",
       "235          Edmond Fayçal Tapsoba\n",
       "352    Esteban Maximiliano Andrada\n",
       "Name: long_name, dtype: object"
      ]
     },
     "execution_count": 76,
     "metadata": {},
     "output_type": "execute_result"
    }
   ],
   "source": [
    "height = df[df.dob.str.contains('198')].height_cm.max()\n",
    "df[df.height_cm == height].long_name"
   ]
  },
  {
   "cell_type": "markdown",
   "id": "7ba93c83-da14-4564-b6c3-e6b6acd0a458",
   "metadata": {},
   "source": [
    "c. Generate a plot/graph to display the number of players from each country\n",
    "using the inbuilt plot method of pandas."
   ]
  },
  {
   "cell_type": "code",
   "execution_count": 77,
   "id": "e3ebda04-cf39-4a6c-ad09-369497147456",
   "metadata": {},
   "outputs": [
    {
     "data": {
      "text/plain": [
       "<AxesSubplot: >"
      ]
     },
     "execution_count": 77,
     "metadata": {},
     "output_type": "execute_result"
    },
    {
     "data": {
      "image/png": "[encoded data removed]",
      "text/plain": [
       "<Figure size 640x480 with 1 Axes>"
      ]
     },
     "metadata": {},
     "output_type": "display_data"
    }
   ],
   "source": [
    "df.nationality_name.value_counts().plot(kind = 'bar')"
   ]
  },
  {
   "cell_type": "markdown",
   "id": "98672616-611c-430f-b9f4-b7d493f38de8",
   "metadata": {},
   "source": [
    "7. Datafile Beijing_2022.csv contains data of the Medals won by participating\n",
    "countries/NOCs as well as by Athletes in the 2022 Winter Olympics, which was\n",
    "held in February 2022 in Beijing, China. Based on this data answer the following\n",
    "questions using pandas dataframe:"
   ]
  },
  {
   "cell_type": "code",
   "execution_count": 78,
   "id": "991855c8-31f0-4ee3-883a-6cb006f8c538",
   "metadata": {},
   "outputs": [],
   "source": [
    "df = pd.read_csv(\"beijing_2022.csv\")"
   ]
  },
  {
   "cell_type": "markdown",
   "id": "703e17e5-a1ce-4011-9072-db82a7fd80af",
   "metadata": {},
   "source": [
    "a. Who won the Bronze Medal in Men's Aerials?"
   ]
  },
  {
   "cell_type": "code",
   "execution_count": 79,
   "id": "2376ce0b-482d-4f6d-ba18-836fe72e4001",
   "metadata": {},
   "outputs": [
    {
     "data": {
      "text/plain": [
       "552    BUROV Ilia\n",
       "Name: NAME, dtype: object"
      ]
     },
     "execution_count": 79,
     "metadata": {},
     "output_type": "execute_result"
    }
   ],
   "source": [
    "df[(df.EVENT== \"Men's Aerials\") & (df.MEDAL == 'Bronze')].NAME"
   ]
  },
  {
   "cell_type": "markdown",
   "id": "01137bb5-a138-48ed-a47b-d4c1b637b9f1",
   "metadata": {},
   "source": [
    "b. Who won the Silver Medal in Women's 1500m Speed Skating?"
   ]
  },
  {
   "cell_type": "code",
   "execution_count": 80,
   "id": "7f95e02a-2dff-4bd4-b0f6-843a2b4e055c",
   "metadata": {},
   "outputs": [
    {
     "data": {
      "text/plain": [
       "453    TAKAGI Miho\n",
       "Name: NAME, dtype: object"
      ]
     },
     "execution_count": 80,
     "metadata": {},
     "output_type": "execute_result"
    }
   ],
   "source": [
    "df[(df.MEDAL == 'Silver') & (df.SPORTS == 'Speed Skating') & (df.EVENT == \"Women's 1500m\")].NAME"
   ]
  },
  {
   "cell_type": "markdown",
   "id": "6d7a3298-ec28-4b85-ae45-f03e0d54b272",
   "metadata": {},
   "source": [
    "c. Which country has won the highest number of Gold Medals?"
   ]
  },
  {
   "cell_type": "code",
   "execution_count": 81,
   "id": "1572bcb5-d3c3-41f5-9bec-7eaa5e6a0abe",
   "metadata": {},
   "outputs": [
    {
     "data": {
      "text/plain": [
       "0     Canada\n",
       "Name: NOC, dtype: object"
      ]
     },
     "execution_count": 81,
     "metadata": {},
     "output_type": "execute_result"
    }
   ],
   "source": [
    "df[df.MEDAL == \"Gold\"].NOC.mode()"
   ]
  },
  {
   "cell_type": "markdown",
   "id": "fc542380-40fd-4025-9149-3499a9ebdd23",
   "metadata": {},
   "source": [
    "d. Generate a plot/graph to display the number of players from each country\n",
    "using the inbuilt plot method of pandas."
   ]
  },
  {
   "cell_type": "code",
   "execution_count": 82,
   "id": "757ebd4a-07aa-4d21-b327-844fa7f50658",
   "metadata": {},
   "outputs": [
    {
     "data": {
      "text/plain": [
       "<AxesSubplot: >"
      ]
     },
     "execution_count": 82,
     "metadata": {},
     "output_type": "execute_result"
    },
    {
     "data": {
      "image/png": "[encoded data removed]",
      "text/plain": [
       "<Figure size 640x480 with 1 Axes>"
      ]
     },
     "metadata": {},
     "output_type": "display_data"
    }
   ],
   "source": [
    "df.NOC.value_counts().plot(kind = 'bar')"
   ]
  }
 ],
 "metadata": {
  "kernelspec": {
   "display_name": "Python 3 (ipykernel)",
   "language": "python",
   "name": "python3"
  },
  "language_info": {
   "codemirror_mode": {
    "name": "ipython",
    "version": 3
   },
   "file_extension": ".py",
   "mimetype": "text/x-python",
   "name": "python",
   "nbconvert_exporter": "python",
   "pygments_lexer": "ipython3",
   "version": "3.9.12"
  }
 },
 "nbformat": 4,
 "nbformat_minor": 5
}
