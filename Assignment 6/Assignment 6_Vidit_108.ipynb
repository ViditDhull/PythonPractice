{
 "cells": [
  {
   "cell_type": "markdown",
   "id": "edb58eff-5655-4095-b00a-786026f5de88",
   "metadata": {},
   "source": [
    "Read data file Netflix_top_10.csv in pandas dataframe and answer the following\n",
    "questions."
   ]
  },
  {
   "cell_type": "code",
   "execution_count": 1,
   "id": "9fb13a22-eae5-4de0-a2f8-2caf27fca885",
   "metadata": {},
   "outputs": [],
   "source": [
    "import pandas as pd"
   ]
  },
  {
   "cell_type": "code",
   "execution_count": 2,
   "id": "be25ea2f-b7f6-42a1-9426-48b59b330bb8",
   "metadata": {},
   "outputs": [],
   "source": [
    "df = pd.read_csv(\"data/Netflix_top_10.csv\")"
   ]
  },
  {
   "cell_type": "markdown",
   "id": "5805f7ec-2a63-4578-a54e-6436ca187e35",
   "metadata": {
    "tags": []
   },
   "source": [
    "1. Find out the number of rows and columns using the shape attribute."
   ]
  },
  {
   "cell_type": "code",
   "execution_count": 3,
   "id": "09661e0a-7d11-4a97-809f-302b88fbd673",
   "metadata": {},
   "outputs": [
    {
     "data": {
      "text/plain": [
       "(400, 6)"
      ]
     },
     "execution_count": 3,
     "metadata": {},
     "output_type": "execute_result"
    }
   ],
   "source": [
    "df.shape"
   ]
  },
  {
   "cell_type": "markdown",
   "id": "3b391ffe-26d2-4d11-89a9-0f0be5783169",
   "metadata": {},
   "source": [
    "2. Check the first eight rows using the head method."
   ]
  },
  {
   "cell_type": "code",
   "execution_count": 4,
   "id": "dbedcc04-6eed-4de6-a121-4df2499447b9",
   "metadata": {},
   "outputs": [
    {
     "data": {
      "text/html": [
       "<div>\n",
       "<style scoped>\n",
       "    .dataframe tbody tr th:only-of-type {\n",
       "        vertical-align: middle;\n",
       "    }\n",
       "\n",
       "    .dataframe tbody tr th {\n",
       "        vertical-align: top;\n",
       "    }\n",
       "\n",
       "    .dataframe thead th {\n",
       "        text-align: right;\n",
       "    }\n",
       "</style>\n",
       "<table border=\"1\" class=\"dataframe\">\n",
       "  <thead>\n",
       "    <tr style=\"text-align: right;\">\n",
       "      <th></th>\n",
       "      <th>week</th>\n",
       "      <th>category</th>\n",
       "      <th>weekly_rank</th>\n",
       "      <th>show_title</th>\n",
       "      <th>season_title</th>\n",
       "      <th>cumulative_weeks_in_top_10</th>\n",
       "    </tr>\n",
       "  </thead>\n",
       "  <tbody>\n",
       "    <tr>\n",
       "      <th>0</th>\n",
       "      <td>2021-11-14</td>\n",
       "      <td>Films (English)</td>\n",
       "      <td>1</td>\n",
       "      <td>Red Notice</td>\n",
       "      <td>NaN</td>\n",
       "      <td>1</td>\n",
       "    </tr>\n",
       "    <tr>\n",
       "      <th>1</th>\n",
       "      <td>2021-11-14</td>\n",
       "      <td>Films (English)</td>\n",
       "      <td>2</td>\n",
       "      <td>Meenakshi Sundareshwar</td>\n",
       "      <td>NaN</td>\n",
       "      <td>2</td>\n",
       "    </tr>\n",
       "    <tr>\n",
       "      <th>2</th>\n",
       "      <td>2021-11-14</td>\n",
       "      <td>Films (English)</td>\n",
       "      <td>3</td>\n",
       "      <td>Doctor (Tamil)</td>\n",
       "      <td>NaN</td>\n",
       "      <td>2</td>\n",
       "    </tr>\n",
       "    <tr>\n",
       "      <th>3</th>\n",
       "      <td>2021-11-14</td>\n",
       "      <td>Films (English)</td>\n",
       "      <td>4</td>\n",
       "      <td>Love Hard</td>\n",
       "      <td>NaN</td>\n",
       "      <td>2</td>\n",
       "    </tr>\n",
       "    <tr>\n",
       "      <th>4</th>\n",
       "      <td>2021-11-14</td>\n",
       "      <td>Films (English)</td>\n",
       "      <td>5</td>\n",
       "      <td>Doctor (Telugu)</td>\n",
       "      <td>NaN</td>\n",
       "      <td>2</td>\n",
       "    </tr>\n",
       "    <tr>\n",
       "      <th>5</th>\n",
       "      <td>2021-11-14</td>\n",
       "      <td>Films (English)</td>\n",
       "      <td>6</td>\n",
       "      <td>Army of Thieves</td>\n",
       "      <td>NaN</td>\n",
       "      <td>3</td>\n",
       "    </tr>\n",
       "    <tr>\n",
       "      <th>6</th>\n",
       "      <td>2021-11-14</td>\n",
       "      <td>Films (English)</td>\n",
       "      <td>7</td>\n",
       "      <td>Maha Samudram</td>\n",
       "      <td>NaN</td>\n",
       "      <td>1</td>\n",
       "    </tr>\n",
       "    <tr>\n",
       "      <th>7</th>\n",
       "      <td>2021-11-14</td>\n",
       "      <td>Films (English)</td>\n",
       "      <td>8</td>\n",
       "      <td>Monster Hunter</td>\n",
       "      <td>NaN</td>\n",
       "      <td>1</td>\n",
       "    </tr>\n",
       "  </tbody>\n",
       "</table>\n",
       "</div>"
      ],
      "text/plain": [
       "         week         category  weekly_rank              show_title  \\\n",
       "0  2021-11-14  Films (English)            1              Red Notice   \n",
       "1  2021-11-14  Films (English)            2  Meenakshi Sundareshwar   \n",
       "2  2021-11-14  Films (English)            3          Doctor (Tamil)   \n",
       "3  2021-11-14  Films (English)            4               Love Hard   \n",
       "4  2021-11-14  Films (English)            5         Doctor (Telugu)   \n",
       "5  2021-11-14  Films (English)            6         Army of Thieves   \n",
       "6  2021-11-14  Films (English)            7           Maha Samudram   \n",
       "7  2021-11-14  Films (English)            8          Monster Hunter   \n",
       "\n",
       "  season_title  cumulative_weeks_in_top_10  \n",
       "0          NaN                           1  \n",
       "1          NaN                           2  \n",
       "2          NaN                           2  \n",
       "3          NaN                           2  \n",
       "4          NaN                           2  \n",
       "5          NaN                           3  \n",
       "6          NaN                           1  \n",
       "7          NaN                           1  "
      ]
     },
     "execution_count": 4,
     "metadata": {},
     "output_type": "execute_result"
    }
   ],
   "source": [
    "df.head(8)"
   ]
  },
  {
   "cell_type": "markdown",
   "id": "e425355e-ab69-4096-841e-7fbcd2bcc583",
   "metadata": {},
   "source": [
    "3. Use the describe method on this dataframe."
   ]
  },
  {
   "cell_type": "code",
   "execution_count": 5,
   "id": "6829b30e-be4c-43a1-bb40-1afb70d7be8e",
   "metadata": {},
   "outputs": [
    {
     "data": {
      "text/html": [
       "<div>\n",
       "<style scoped>\n",
       "    .dataframe tbody tr th:only-of-type {\n",
       "        vertical-align: middle;\n",
       "    }\n",
       "\n",
       "    .dataframe tbody tr th {\n",
       "        vertical-align: top;\n",
       "    }\n",
       "\n",
       "    .dataframe thead th {\n",
       "        text-align: right;\n",
       "    }\n",
       "</style>\n",
       "<table border=\"1\" class=\"dataframe\">\n",
       "  <thead>\n",
       "    <tr style=\"text-align: right;\">\n",
       "      <th></th>\n",
       "      <th>weekly_rank</th>\n",
       "      <th>cumulative_weeks_in_top_10</th>\n",
       "    </tr>\n",
       "  </thead>\n",
       "  <tbody>\n",
       "    <tr>\n",
       "      <th>count</th>\n",
       "      <td>400.000000</td>\n",
       "      <td>400.000000</td>\n",
       "    </tr>\n",
       "    <tr>\n",
       "      <th>mean</th>\n",
       "      <td>5.500000</td>\n",
       "      <td>3.305000</td>\n",
       "    </tr>\n",
       "    <tr>\n",
       "      <th>std</th>\n",
       "      <td>2.875878</td>\n",
       "      <td>3.305949</td>\n",
       "    </tr>\n",
       "    <tr>\n",
       "      <th>min</th>\n",
       "      <td>1.000000</td>\n",
       "      <td>1.000000</td>\n",
       "    </tr>\n",
       "    <tr>\n",
       "      <th>25%</th>\n",
       "      <td>3.000000</td>\n",
       "      <td>1.000000</td>\n",
       "    </tr>\n",
       "    <tr>\n",
       "      <th>50%</th>\n",
       "      <td>5.500000</td>\n",
       "      <td>2.000000</td>\n",
       "    </tr>\n",
       "    <tr>\n",
       "      <th>75%</th>\n",
       "      <td>8.000000</td>\n",
       "      <td>4.000000</td>\n",
       "    </tr>\n",
       "    <tr>\n",
       "      <th>max</th>\n",
       "      <td>10.000000</td>\n",
       "      <td>20.000000</td>\n",
       "    </tr>\n",
       "  </tbody>\n",
       "</table>\n",
       "</div>"
      ],
      "text/plain": [
       "       weekly_rank  cumulative_weeks_in_top_10\n",
       "count   400.000000                  400.000000\n",
       "mean      5.500000                    3.305000\n",
       "std       2.875878                    3.305949\n",
       "min       1.000000                    1.000000\n",
       "25%       3.000000                    1.000000\n",
       "50%       5.500000                    2.000000\n",
       "75%       8.000000                    4.000000\n",
       "max      10.000000                   20.000000"
      ]
     },
     "execution_count": 5,
     "metadata": {},
     "output_type": "execute_result"
    }
   ],
   "source": [
    "df.describe()"
   ]
  },
  {
   "cell_type": "markdown",
   "id": "abf146d9-13f7-4e84-8334-71fa49ca1e6e",
   "metadata": {},
   "source": [
    "4. In which months was the show “Friends” in the top 10?"
   ]
  },
  {
   "cell_type": "code",
   "execution_count": 6,
   "id": "e9a01c79-535f-4a1a-9040-793475425f8a",
   "metadata": {
    "tags": []
   },
   "outputs": [],
   "source": [
    "week = df[(df.show_title == \"Friends\") & (df.weekly_rank <= 10)].week"
   ]
  },
  {
   "cell_type": "code",
   "execution_count": 7,
   "id": "d4f8c748-5510-4755-ab10-6a1bad76f011",
   "metadata": {},
   "outputs": [],
   "source": [
    "weeks = list(week)"
   ]
  },
  {
   "cell_type": "code",
   "execution_count": 8,
   "id": "1eadea61-db08-40da-a795-ca55bb4c5b7b",
   "metadata": {},
   "outputs": [
    {
     "name": "stdout",
     "output_type": "stream",
     "text": [
      "07\n",
      "07\n",
      "07\n",
      "07\n",
      "07\n"
     ]
    }
   ],
   "source": [
    "for i in weeks:\n",
    "    print(i[5:7])"
   ]
  },
  {
   "cell_type": "markdown",
   "id": "b0ab4d6b-6a06-4ce6-af27-67168cffc82e",
   "metadata": {},
   "source": [
    "5. Which TV show was in the top 10 for a long time?"
   ]
  },
  {
   "cell_type": "code",
   "execution_count": 9,
   "id": "188f275d-23e9-4da6-8c38-c473542269d1",
   "metadata": {},
   "outputs": [],
   "source": [
    "tv = df[df.category == \"TV (English)\"]"
   ]
  },
  {
   "cell_type": "code",
   "execution_count": 10,
   "id": "0221246b-5f59-4dbd-8e8b-9f4697079549",
   "metadata": {},
   "outputs": [
    {
     "data": {
      "text/plain": [
       "16    Money Heist\n",
       "Name: show_title, dtype: object"
      ]
     },
     "execution_count": 10,
     "metadata": {},
     "output_type": "execute_result"
    }
   ],
   "source": [
    "tv.sort_values(\"cumulative_weeks_in_top_10\", ascending = False).show_title.head(1)"
   ]
  },
  {
   "cell_type": "markdown",
   "id": "5de16404-78d2-4b65-bf6b-2237c603e06c",
   "metadata": {},
   "source": [
    "6. Which movie was in the top 10 for a long time?"
   ]
  },
  {
   "cell_type": "code",
   "execution_count": 11,
   "id": "bfb1648c-8fc8-46f2-8add-a3e98684d89d",
   "metadata": {},
   "outputs": [],
   "source": [
    "movies = df[df.category == \"Films (English)\"]"
   ]
  },
  {
   "cell_type": "code",
   "execution_count": 12,
   "id": "4b95d2f2-c08e-4e11-9cb8-849cf6f434b0",
   "metadata": {},
   "outputs": [
    {
     "data": {
      "text/plain": [
       "47    Haseen Dillruba\n",
       "Name: show_title, dtype: object"
      ]
     },
     "execution_count": 12,
     "metadata": {},
     "output_type": "execute_result"
    }
   ],
   "source": [
    "movies.sort_values(\"cumulative_weeks_in_top_10\", ascending = False).show_title.head(1)"
   ]
  },
  {
   "cell_type": "markdown",
   "id": "46cd6875-a13d-41a2-887c-d292d58cc31c",
   "metadata": {},
   "source": [
    "7. Which movie was at number 1 position for the month of July?"
   ]
  },
  {
   "cell_type": "code",
   "execution_count": 13,
   "id": "f6e0cbd6-ca69-453b-b504-bc20bd65f353",
   "metadata": {},
   "outputs": [],
   "source": [
    "booleans = []\n",
    "for i in df.week:\n",
    "    if i[6] == \"7\":\n",
    "        booleans.append(True)\n",
    "    else:\n",
    "        booleans.append(False)"
   ]
  },
  {
   "cell_type": "code",
   "execution_count": 14,
   "id": "4add50bf-063d-4cb0-be61-4342596273a4",
   "metadata": {},
   "outputs": [
    {
     "data": {
      "text/plain": [
       "320    Haseen Dillruba\n",
       "Name: show_title, dtype: object"
      ]
     },
     "execution_count": 14,
     "metadata": {},
     "output_type": "execute_result"
    }
   ],
   "source": [
    "df[(df.category == \"Films (English)\") & (df.weekly_rank == 1) & (booleans)].show_title.sort_values(ascending = False).head(1)"
   ]
  }
 ],
 "metadata": {
  "kernelspec": {
   "display_name": "Python 3 (ipykernel)",
   "language": "python",
   "name": "python3"
  },
  "language_info": {
   "codemirror_mode": {
    "name": "ipython",
    "version": 3
   },
   "file_extension": ".py",
   "mimetype": "text/x-python",
   "name": "python",
   "nbconvert_exporter": "python",
   "pygments_lexer": "ipython3",
   "version": "3.9.12"
  }
 },
 "nbformat": 4,
 "nbformat_minor": 5
}
