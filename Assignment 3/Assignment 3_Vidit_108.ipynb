{
 "cells": [
  {
   "cell_type": "markdown",
   "id": "4929bbf8",
   "metadata": {},
   "source": [
    "1. Create a function that can accept two arguments - name & age and display them.\n"
   ]
  },
  {
   "cell_type": "code",
   "execution_count": 1,
   "id": "03dbe71e",
   "metadata": {},
   "outputs": [
    {
     "name": "stdout",
     "output_type": "stream",
     "text": [
      "Enter your name: Python\n",
      "Enter your age: 15\n",
      "Your name is Python\n",
      "Your age is 15\n"
     ]
    }
   ],
   "source": [
    "name = input(\"Enter your name: \")\n",
    "age = int(input(\"Enter your age: \"))\n",
    "def display(name,age):\n",
    "    '''\n",
    "    The \"display\" function displays the name and age.\n",
    "    '''\n",
    "    print(f\"Your name is {name}\")\n",
    "    print(f\"Your age is {age}\")\n",
    "\n",
    "display(name, age)"
   ]
  },
  {
   "cell_type": "markdown",
   "id": "d80c8d41",
   "metadata": {},
   "source": [
    "2. Define a function to check whether a given number is prime or not, and display\n",
    "appropriate messages.\n"
   ]
  },
  {
   "cell_type": "code",
   "execution_count": 2,
   "id": "ce2b230d",
   "metadata": {},
   "outputs": [
    {
     "name": "stdout",
     "output_type": "stream",
     "text": [
      "Enter the number: 29\n",
      "29 is a prime number.\n"
     ]
    }
   ],
   "source": [
    "number = int(input(\"Enter the number: \"))\n",
    "\n",
    "def prime(num):\n",
    "    \"\"\"\n",
    "    The \"prime\" function takes a number as an argument and displays whether the number is prime or not.\n",
    "    \"\"\"\n",
    "    isprime = True\n",
    "    for i in range(2,num):\n",
    "        if num % i == 0:\n",
    "            isprime = False\n",
    "            break\n",
    "        else:\n",
    "            isprime = True\n",
    "            \n",
    "    if isprime == True:\n",
    "        print(f\"{num} is a prime number.\")\n",
    "    else:\n",
    "        print(f\"{num} is not a prime number.\")\n",
    "\n",
    "prime(number)"
   ]
  },
  {
   "cell_type": "markdown",
   "id": "0f939402",
   "metadata": {},
   "source": [
    "3. Define a function to check whether a given number is prime or not, and return\n",
    "True if number is prime else return False."
   ]
  },
  {
   "cell_type": "code",
   "execution_count": 3,
   "id": "ddd21abd",
   "metadata": {},
   "outputs": [
    {
     "name": "stdout",
     "output_type": "stream",
     "text": [
      "Enter the number: 37\n"
     ]
    },
    {
     "data": {
      "text/plain": [
       "True"
      ]
     },
     "execution_count": 3,
     "metadata": {},
     "output_type": "execute_result"
    }
   ],
   "source": [
    "number = int(input(\"Enter the number: \"))\n",
    "\n",
    "def prime(num):\n",
    "    \"\"\"\n",
    "    The \"prime\" function takes a number as an argument and returns True if the number is prime otherwise False.\n",
    "    \"\"\"\n",
    "    isprime = True\n",
    "    for i in range(2,num):\n",
    "        if num % i == 0:\n",
    "            isprime = False\n",
    "            break\n",
    "        else:\n",
    "            isprime = True\n",
    "            \n",
    "    return isprime\n",
    "\n",
    "prime(number)"
   ]
  },
  {
   "cell_type": "markdown",
   "id": "ae40ec9d",
   "metadata": {},
   "source": [
    "4. Define a function overlapping() that takes two lists and returns True if they have at\n",
    "least one member in common, False otherwise."
   ]
  },
  {
   "cell_type": "code",
   "execution_count": 4,
   "id": "162abbda",
   "metadata": {},
   "outputs": [
    {
     "data": {
      "text/plain": [
       "True"
      ]
     },
     "execution_count": 4,
     "metadata": {},
     "output_type": "execute_result"
    }
   ],
   "source": [
    "ls1 = [1,2,3,4,5,6,7]\n",
    "ls2 = [34,46,34,86,7]\n",
    "\n",
    "def overlapping(list1,list2):\n",
    "    \"\"\"\n",
    "    The Overlapping function takes two lists as arguments and returns True if they have at\n",
    "    least one member in common, False otherwise.\n",
    "    \"\"\"\n",
    "    condition = None\n",
    "    for i in list1:\n",
    "        if i in list2:\n",
    "            condition = True\n",
    "            break\n",
    "        else:\n",
    "            condition = False\n",
    "            \n",
    "    return condition\n",
    "        \n",
    "overlapping(ls1,ls2)"
   ]
  },
  {
   "cell_type": "markdown",
   "id": "34399804",
   "metadata": {},
   "source": [
    "5. Write a function called nested_sum() that takes a nested list of integers and adds\n",
    "up the elements from all the lists and returns the sum."
   ]
  },
  {
   "cell_type": "code",
   "execution_count": 5,
   "id": "ab202c89",
   "metadata": {},
   "outputs": [
    {
     "data": {
      "text/plain": [
       "47"
      ]
     },
     "execution_count": 5,
     "metadata": {},
     "output_type": "execute_result"
    }
   ],
   "source": [
    "nested_list = [[1,2,3,4], [6,7,2], [7,7,8]]\n",
    "\n",
    "def nested_sum(lst):\n",
    "    sum = 0\n",
    "    for i in lst:\n",
    "        for j in i:\n",
    "            sum = sum + j\n",
    "    return sum\n",
    "\n",
    "nested_sum(nested_list)"
   ]
  },
  {
   "cell_type": "markdown",
   "id": "13a73caf",
   "metadata": {},
   "source": [
    "6. Write a function adder() which accepts a random number of arguments of any data\n",
    "type (int, float, boolean, string) and returns the sum of all the int and float values in it.\n",
    "For eg: adder(1, 2, True, 9, \"mango\", 5.0) should return 17.0"
   ]
  },
  {
   "cell_type": "code",
   "execution_count": 6,
   "id": "4985d660",
   "metadata": {},
   "outputs": [
    {
     "data": {
      "text/plain": [
       "27.5"
      ]
     },
     "execution_count": 6,
     "metadata": {},
     "output_type": "execute_result"
    }
   ],
   "source": [
    "def adder(*item):\n",
    "    sum = 0\n",
    "    for i in item:\n",
    "        if type(i) == int or type(i) == float:\n",
    "            sum = sum+i\n",
    "    return sum\n",
    "\n",
    "adder(1, 2, True, 19, \"mango\", 5.5)"
   ]
  },
  {
   "cell_type": "markdown",
   "id": "bf1f5528",
   "metadata": {},
   "source": [
    "7. Write a program to create a recursive function to calculate the sum of all the numbers\n",
    "from 1 to n. Pass value of n to the function by accepting it from the user."
   ]
  },
  {
   "cell_type": "code",
   "execution_count": 7,
   "id": "dfc4e33e",
   "metadata": {},
   "outputs": [
    {
     "name": "stdout",
     "output_type": "stream",
     "text": [
      "Enter the number: 5\n"
     ]
    },
    {
     "data": {
      "text/plain": [
       "15"
      ]
     },
     "execution_count": 7,
     "metadata": {},
     "output_type": "execute_result"
    }
   ],
   "source": [
    "num = int(input(\"Enter the number: \"))\n",
    "\n",
    "def add(n):\n",
    "    if n>0:\n",
    "        return n + add(n-1)\n",
    "    else:\n",
    "        return 0\n",
    "    \n",
    "add(num)"
   ]
  },
  {
   "cell_type": "markdown",
   "id": "2c41f1c8",
   "metadata": {},
   "source": [
    "8. Write a function centered_average(),in a module, that returns the \"centered\"\n",
    "average of a list of integers. Centered average is the average of the values\n",
    "ignoring the largest and smallest values in the list. If there are multiple copies of\n",
    "the smallest value, ignore just one copy, and likewise for the largest value. Input\n",
    "list should be of length 3 or more. Import this function from the module and call it\n",
    "in the jupyter notebook.\n",
    "centered_average([1, 2, 3, 4, 100]) → 3\n",
    "centered_average([1, 1, 5, 5, 10, 8, 7]) → 5\n",
    "centered_average([-10, -4, -2, -4, -2, 0]) → -3"
   ]
  },
  {
   "cell_type": "code",
   "execution_count": 8,
   "id": "ade9e5aa",
   "metadata": {},
   "outputs": [
    {
     "name": "stdout",
     "output_type": "stream",
     "text": [
      "3.0\n",
      "5.2\n",
      "-3.0\n"
     ]
    }
   ],
   "source": [
    "from CenteredAverage import centered_average\n",
    "print(centered_average([1, 2, 3, 4, 100]))\n",
    "print(centered_average([1, 1, 5, 5, 10, 8, 7]))\n",
    "print(centered_average([-10, -4, -2, -4, -2, 0]))"
   ]
  }
 ],
 "metadata": {
  "kernelspec": {
   "display_name": "Python 3 (ipykernel)",
   "language": "python",
   "name": "python3"
  },
  "language_info": {
   "codemirror_mode": {
    "name": "ipython",
    "version": 3
   },
   "file_extension": ".py",
   "mimetype": "text/x-python",
   "name": "python",
   "nbconvert_exporter": "python",
   "pygments_lexer": "ipython3",
   "version": "3.9.13"
  }
 },
 "nbformat": 4,
 "nbformat_minor": 5
}
