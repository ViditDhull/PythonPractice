{
 "cells": [
  {
   "cell_type": "markdown",
   "id": "9a0ebcbc",
   "metadata": {},
   "source": [
    "Q1. Write a program to check whether the given number is a perfect number or not.\n",
    "    A number is called a perfect number if the sum of the factors of that number is equal to\n",
    "    the same number. Example: 6 = 1 + 2 + 3"
   ]
  },
  {
   "cell_type": "code",
   "execution_count": 1,
   "id": "ea818b62",
   "metadata": {},
   "outputs": [
    {
     "name": "stdout",
     "output_type": "stream",
     "text": [
      "Enter the number: 8128\n",
      "This is a perfect number.\n"
     ]
    }
   ],
   "source": [
    "num = int(input(\"Enter the number: \"))\n",
    "factors = []\n",
    "for i in range(1,num):\n",
    "    if num % i == 0:\n",
    "        factors.append(i)\n",
    "sum = 0\n",
    "for j in factors:\n",
    "    sum = sum + j\n",
    "if sum == num:\n",
    "    print(\"This is a perfect number.\")\n",
    "else:\n",
    "    print(\"This is not a perfect number.\")"
   ]
  },
  {
   "cell_type": "markdown",
   "id": "4d06e01b",
   "metadata": {},
   "source": [
    "Q2. Write a program to check whether a number can be expanded as the sum of two\n",
    "    prime numbers.\n",
    "    For example, the number 9 can be expanded as two prime numbers 2 and 7\n",
    "    9 = 2 + 7."
   ]
  },
  {
   "cell_type": "code",
   "execution_count": 2,
   "id": "c660239a",
   "metadata": {},
   "outputs": [
    {
     "name": "stdout",
     "output_type": "stream",
     "text": [
      "Enter the number: 56\n",
      "The number can be expressed as sum of {3, 53}\n"
     ]
    }
   ],
   "source": [
    "num = int(input(\"Enter the number: \"))\n",
    "primes = []\n",
    "for i in range(2,num):\n",
    "    boolean = True\n",
    "    for j in range(2,i):\n",
    "        if i % j == 0:\n",
    "            boolean = False\n",
    "    if boolean:\n",
    "        primes.append(i)        \n",
    "for i in primes:\n",
    "    for j in primes:\n",
    "        if i + j == num:\n",
    "            test = set([i,j])\n",
    "if len(test) == 0:\n",
    "    print(\"The number cannot be expressed as sum of two primes.\")\n",
    "else:\n",
    "    print(f\"The number can be expressed as sum of {test}\")"
   ]
  },
  {
   "cell_type": "markdown",
   "id": "fe23bf02",
   "metadata": {},
   "source": [
    "Q3. Write a program to read a multi word string and print all the words in alphabetical\n",
    "    order."
   ]
  },
  {
   "cell_type": "code",
   "execution_count": 3,
   "id": "0d7fd8f5",
   "metadata": {},
   "outputs": [
    {
     "name": "stdout",
     "output_type": "stream",
     "text": [
      "Enter the string: Hello This is a test string for this question\n",
      "['A', 'FOR', 'HELLO', 'IS', 'QUESTION', 'STRING', 'TEST', 'THIS', 'THIS']\n"
     ]
    }
   ],
   "source": [
    "string = input(\"Enter the string: \").upper()\n",
    "string = string.split()\n",
    "string.sort()\n",
    "print(string)"
   ]
  },
  {
   "cell_type": "markdown",
   "id": "57820db5",
   "metadata": {},
   "source": [
    "Q4. Write a program to check whether a sentence is a pangram or not. A pangram is a\n",
    "    sentence that contains all the letters of the English alphabet at least once. Example:\n",
    "    The quick brown fox jumps over the lazy dog."
   ]
  },
  {
   "cell_type": "code",
   "execution_count": 4,
   "id": "666879e9",
   "metadata": {},
   "outputs": [
    {
     "name": "stdout",
     "output_type": "stream",
     "text": [
      "Enter the sentence: Brown jars prevented the mixture from freezing too quickly\n",
      "This is a pangram sentence.\n"
     ]
    }
   ],
   "source": [
    "string = input(\"Enter the sentence: \")\n",
    "alphabets = 'abcdefghijklmnopqrstuvwxyz'\n",
    "instring = None\n",
    "for i in alphabets:\n",
    "    if i in string.lower():\n",
    "        instring = True\n",
    "    else:\n",
    "        instring = False\n",
    "\n",
    "if instring == True:\n",
    "    print(\"This is a pangram sentence.\")\n",
    "else:\n",
    "    print(\"This is not a pangram sentence.\")"
   ]
  },
  {
   "cell_type": "markdown",
   "id": "92c75403",
   "metadata": {},
   "source": [
    "Q5. Write a program that takes a phrase as a user input and then prints the\n",
    "    corresponding acronym."
   ]
  },
  {
   "cell_type": "code",
   "execution_count": 5,
   "id": "117273cf",
   "metadata": {},
   "outputs": [
    {
     "name": "stdout",
     "output_type": "stream",
     "text": [
      "Enter the phrase: Hello This is a test string for this question\n",
      "H T I A T S F T Q "
     ]
    }
   ],
   "source": [
    "phrase = input(\"Enter the phrase: \")\n",
    "lst = phrase.split()\n",
    "for i in lst:\n",
    "    print(i[0].upper(), end = \" \")"
   ]
  },
  {
   "cell_type": "markdown",
   "id": "64c2bd97",
   "metadata": {},
   "source": [
    "Q6. Given a dictionary of students and their favorite colors:\n",
    "\n",
    "people= {'Arham':'Blue',\n",
    "'Lisa':'Yellow',\n",
    "'Vinod':'Purple',\n",
    "'Jenny':'Pink'}\n",
    "i. Find out how many students are in the dictionary.\n",
    "ii. Change Lisa’s favorite colour.\n",
    "iii. Remove 'Jenny' and her favourite colour."
   ]
  },
  {
   "cell_type": "code",
   "execution_count": 6,
   "id": "df464ee0",
   "metadata": {},
   "outputs": [
    {
     "name": "stdout",
     "output_type": "stream",
     "text": [
      "The number of students in dictionary are 4\n",
      "{'Arham': 'Blue', 'Lisa': 'Black', 'Vinod': 'Purple', 'Jenny': 'Pink'}\n",
      "{'Arham': 'Blue', 'Lisa': 'Black', 'Vinod': 'Purple'}\n"
     ]
    }
   ],
   "source": [
    "people= {'Arham':'Blue', 'Lisa':'Yellow', 'Vinod':'Purple', 'Jenny':'Pink'}\n",
    "count = 0\n",
    "for i in people:\n",
    "    count += 1\n",
    "print(\"The number of students in dictionary are\",count)\n",
    "people['Lisa'] = \"Black\"\n",
    "print(people)\n",
    "people.pop(\"Jenny\")\n",
    "print(people)"
   ]
  },
  {
   "cell_type": "markdown",
   "id": "c342794d",
   "metadata": {},
   "source": [
    "Q7. A website requires the users to input username and password to register. Write a\n",
    "program to check the validity of password input by users. Following are the criteria for\n",
    "checking the password:\n",
    "\n",
    "i. At least 1 letter between [a-z]\n",
    "ii. At least 1 number between [0-9]\n",
    "iii. At least 1 letter between [A-Z]\n",
    "iv. At least 1 character from [$#@]\n",
    "v. Minimum length of transaction password: 6\n",
    "vi. Maximum length of transaction password: 12\n",
    "vii. No white spaces anywhere in the password.\n",
    "\n",
    "Your program should accept 5 comma separated passwords in one string and will check\n",
    "them according to the above criteria. Passwords that match the criteria are to be printed\n",
    "on screen."
   ]
  },
  {
   "cell_type": "code",
   "execution_count": 7,
   "id": "db279065",
   "metadata": {},
   "outputs": [
    {
     "name": "stdout",
     "output_type": "stream",
     "text": [
      "Enter five passwords, separated by comma: @Hello1,eE1@,Ee1$bv,sdhdhgs#4C,srgg@34\n",
      "['@Hello1', 'Ee1$bv', 'sdhdhgs#4C']\n"
     ]
    }
   ],
   "source": [
    "password = input(\"Enter five passwords, separated by comma: \")\n",
    "pswd = password.split(\",\")\n",
    "validpass = None\n",
    "alphabets = 'abcdefghijklmnopqrstuvwxyz'\n",
    "nums = '0123456789'\n",
    "char = '$#@'\n",
    "allowed = []\n",
    "for i in pswd:\n",
    "    ls = [0]*6\n",
    "    for j in i:\n",
    "        if j in alphabets:\n",
    "            ls[0] = 1\n",
    "        if j in nums:\n",
    "            ls[1] = 1\n",
    "        if j in alphabets.upper():\n",
    "            ls[2] = 1\n",
    "        if j in char:\n",
    "            ls[3] = 1\n",
    "        if len(i)>=6 and len(i)<=12:\n",
    "            ls[4] = 1\n",
    "        if j not in \" \":\n",
    "            ls[5] = 1\n",
    "    if ls.count(1) == 6:\n",
    "        allowed.append(i)\n",
    "print(allowed)"
   ]
  },
  {
   "cell_type": "markdown",
   "id": "9df9c42c",
   "metadata": {},
   "source": [
    "Q8. Write a program that takes a string as input and builds a frequency listing of the\n",
    "characters contained in it. Represent the frequency listing as a Python dictionary.\n",
    "Example:\n",
    "Input String: “Leader”\n",
    "Output Dictionary: {‘L’:1, ‘a’:1,‘d’:1, ‘e’:2, ‘r’:1}"
   ]
  },
  {
   "cell_type": "code",
   "execution_count": 8,
   "id": "889cc413",
   "metadata": {},
   "outputs": [
    {
     "name": "stdout",
     "output_type": "stream",
     "text": [
      "Enter the string: Hello This is a test string for this question\n",
      "{'H': 1, 'e': 3, 'l': 2, 'o': 3, ' ': 8, 'T': 1, 'h': 2, 'i': 5, 's': 6, 'a': 1, 't': 5, 'r': 2, 'n': 2, 'g': 1, 'f': 1, 'q': 1, 'u': 1}\n"
     ]
    }
   ],
   "source": [
    "string = input(\"Enter the string: \")\n",
    "dictionary = {}\n",
    "for i in string:\n",
    "    dictionary[i] = string.count(i)\n",
    "print(dictionary)"
   ]
  },
  {
   "cell_type": "markdown",
   "id": "4925a7e7",
   "metadata": {},
   "source": [
    "Q9. Write a program that maps a list of words into a list of integers representing the\n",
    "lengths of the corresponding words."
   ]
  },
  {
   "cell_type": "code",
   "execution_count": 9,
   "id": "7512ece5",
   "metadata": {},
   "outputs": [
    {
     "name": "stdout",
     "output_type": "stream",
     "text": [
      "Enter the sentence: Hello This is a test string for this question\n",
      "{'Hello': 5, 'This': 4, 'is': 2, 'a': 1, 'test': 4, 'string': 6, 'for': 3, 'this': 4, 'question': 8}\n"
     ]
    }
   ],
   "source": [
    "sentence = input(\"Enter the sentence: \")\n",
    "words = sentence.split()\n",
    "map = {}\n",
    "for i in words:\n",
    "    map[i] = len(i)\n",
    "print(map)"
   ]
  },
  {
   "cell_type": "markdown",
   "id": "e350a2af",
   "metadata": {},
   "source": [
    "Q10. Write a program to accept a filename from the user and print the extension of that.\n",
    "Sample filename: attendance.xlsx\n",
    "Output: xlsx"
   ]
  },
  {
   "cell_type": "code",
   "execution_count": 10,
   "id": "3900c237",
   "metadata": {},
   "outputs": [
    {
     "name": "stdout",
     "output_type": "stream",
     "text": [
      "Enter the file name with extension: testfile.extension\n",
      "extension\n"
     ]
    }
   ],
   "source": [
    "file = input(\"Enter the file name with extension: \")\n",
    "file = file.split('.')\n",
    "print(file[-1])\n"
   ]
  },
  {
   "cell_type": "markdown",
   "id": "1d4156ee",
   "metadata": {},
   "source": [
    "Q11. Write a program to print all even numbers from the numbers list given below in the\n",
    "same order and stop the printing if any numbers that come after 449 in the sequence.\n",
    "numbers = [1386, 462, 47, 418, 907, 344, 236, 375, 823, 566, 597, 978,\n",
    "328, 615, 953, 345, 1390, 162, 758, 219, 918, 237, 412, 566, 449, 248,\n",
    "866, 950, 626, 949, 687, 217, 815, 67, 104, 58, 512, 24]"
   ]
  },
  {
   "cell_type": "code",
   "execution_count": 11,
   "id": "6d589993",
   "metadata": {},
   "outputs": [
    {
     "name": "stdout",
     "output_type": "stream",
     "text": [
      "[1386, 462, 418, 344, 236, 566, 978, 328, 1390, 162, 758, 918, 412, 566, 449]\n"
     ]
    }
   ],
   "source": [
    "numbers = [1386, 462, 47, 418, 907, 344, 236, 375, 823, 566, 597, 978,\n",
    "            328, 615, 953, 345, 1390, 162, 758, 219, 918, 237, 412, 566, 449, 248,\n",
    "            866, 950, 626, 949, 687, 217, 815, 67, 104, 58, 512, 24]\n",
    "ls = []\n",
    "for i in numbers:\n",
    "    if i == 449:\n",
    "        ls.append(449)\n",
    "        break\n",
    "    elif i % 2 == 0:\n",
    "        ls.append(i)\n",
    "print(ls)"
   ]
  },
  {
   "cell_type": "markdown",
   "id": "2b3d2644",
   "metadata": {},
   "source": [
    "Q12. Write a program to print all the colors from color_list_1 which are not present in\n",
    "color_list_2.\n",
    "Test Data:\n",
    "\n",
    "color_list_1 = [\"White\", \"Black\", \"Red\"]\n",
    "color_list_2 = [\"Red\", \"Green\"]\n",
    "\n",
    "Expected Output:\n",
    "Black\n",
    "White"
   ]
  },
  {
   "cell_type": "code",
   "execution_count": 12,
   "id": "6624424f",
   "metadata": {
    "scrolled": true
   },
   "outputs": [
    {
     "name": "stdout",
     "output_type": "stream",
     "text": [
      "{'White', 'Black'}\n"
     ]
    }
   ],
   "source": [
    "color_list_1 = {\"White\", \"Black\", \"Red\"}\n",
    "color_list_2 = {\"Red\", \"Green\"}\n",
    "print(color_list_1 - color_list_2)"
   ]
  }
 ],
 "metadata": {
  "kernelspec": {
   "display_name": "Python 3 (ipykernel)",
   "language": "python",
   "name": "python3"
  },
  "language_info": {
   "codemirror_mode": {
    "name": "ipython",
    "version": 3
   },
   "file_extension": ".py",
   "mimetype": "text/x-python",
   "name": "python",
   "nbconvert_exporter": "python",
   "pygments_lexer": "ipython3",
   "version": "3.9.13"
  }
 },
 "nbformat": 4,
 "nbformat_minor": 5
}
