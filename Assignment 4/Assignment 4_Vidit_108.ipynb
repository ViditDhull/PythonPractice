{
 "cells": [
  {
   "cell_type": "markdown",
   "id": "49135e06",
   "metadata": {},
   "source": [
    "1. Read the given file rhyme.txt and display lines from it in lower case.\n"
   ]
  },
  {
   "cell_type": "code",
   "execution_count": 1,
   "id": "64106f59",
   "metadata": {},
   "outputs": [
    {
     "name": "stdout",
     "output_type": "stream",
     "text": [
      "baa, baa, black sheep,\n",
      "\n",
      "have you any wool?\n",
      "\n",
      "yes, sir, yes, sir,\n",
      "\n",
      "three bags full;\n",
      "\n",
      "one for the master,\n",
      "\n",
      "and one for the dame,\n",
      "\n",
      "and one for the little boy\n",
      "\n",
      "who lives down the lane.\n",
      "\n"
     ]
    }
   ],
   "source": [
    "file = open(\"rhyme.txt\", \"r\")\n",
    "for line in file:\n",
    "    print(line.lower())"
   ]
  },
  {
   "cell_type": "markdown",
   "id": "77a66475",
   "metadata": {},
   "source": [
    "2. Write a function to accept Shipping Address from the User with following fields:\n",
    "I. First Name\n",
    "II. Last Name\n",
    "III. Address Line 1\n",
    "IV. Address Line 2\n",
    "V. City\n",
    "VI. State\n",
    "VII. Pin Code\n",
    "Save shipping addresses in a file named address.txt.\n"
   ]
  },
  {
   "cell_type": "code",
   "execution_count": 2,
   "id": "c8570eb5",
   "metadata": {},
   "outputs": [],
   "source": [
    "def user():\n",
    "    '''\n",
    "    This function accepts user details and save it in file.\n",
    "    '''\n",
    "    first = input(\"Enter your first name: \")\n",
    "    last = input(\"Enter your last name: \")\n",
    "    add1 = input(\"Enter address Line 1: \")\n",
    "    add2 = input(\"Enter address Line 2: \")\n",
    "    city = input(\"Enter city name: \")\n",
    "    state = input(\"Enter your State name: \")\n",
    "    pin = input(\"Enter Pin code: \")\n",
    "    \n",
    "    ls = []\n",
    "    ls.append(first+\"\\n\")\n",
    "    ls.append(last+\"\\n\")\n",
    "    ls.append(add1+\"\\n\")\n",
    "    ls.append(add2+\"\\n\")\n",
    "    ls.append(city+\"\\n\")\n",
    "    ls.append(state+\"\\n\")\n",
    "    ls.append(pin)\n",
    "\n",
    "    file = open(\"address.txt\", \"r+\")\n",
    "    file.writelines(ls)\n",
    "    file.close"
   ]
  },
  {
   "cell_type": "code",
   "execution_count": 3,
   "id": "3b2e8aeb",
   "metadata": {},
   "outputs": [
    {
     "name": "stdout",
     "output_type": "stream",
     "text": [
      "Enter your first name: Vidit\n",
      "Enter your last name: Dhull\n",
      "Enter address Line 1: Rohtak\n",
      "Enter address Line 2: Haryana\n",
      "Enter city name: Rohtak\n",
      "Enter your State name: Haryana\n",
      "Enter Pin code: 124001\n"
     ]
    }
   ],
   "source": [
    "user()"
   ]
  },
  {
   "cell_type": "markdown",
   "id": "915774fa",
   "metadata": {},
   "source": [
    "3. After accepting Shipping address from user (previous question continued) ask\n",
    "user whether the billing address is same as shipping address, if not, accept\n",
    "billing address from the user with the same fields as mentioned above. Now\n",
    "save these both addresses in the same file with appropriate titles. If we run\n",
    "this code multiple times all the addresses must be saved in the same file."
   ]
  },
  {
   "cell_type": "code",
   "execution_count": 4,
   "id": "6e724469",
   "metadata": {},
   "outputs": [],
   "source": [
    "def user():\n",
    "    '''\n",
    "    This function accepts user details and save it in file.\n",
    "    '''\n",
    "    first = input(\"Enter your first name: \")\n",
    "    last = input(\"Enter your last name: \")\n",
    "    add1 = input(\"Enter address Line 1: \")\n",
    "    add2 = input(\"Enter address Line 2: \")\n",
    "    city = input(\"Enter city name: \")\n",
    "    state = input(\"Enter your State name: \")\n",
    "    pin = input(\"Enter Pin code: \")\n",
    "    \n",
    "    ls = []\n",
    "    ls.append(first+\"\\n\")\n",
    "    ls.append(last+\"\\n\")\n",
    "    ls.append(add1+\"\\n\")\n",
    "    ls.append(add2+\"\\n\")\n",
    "    ls.append(city+\"\\n\")\n",
    "    ls.append(state+\"\\n\")\n",
    "    ls.append(pin+\"\\n\")\n",
    "\n",
    "    file = open(\"address.txt\", \"r+\")\n",
    "    file.seek(0,2)\n",
    "    file.write(\"Shipping address:\\n\")\n",
    "    file.writelines(ls)\n",
    "    file.write(\"\\n\")\n",
    "    \n",
    "    ask = input(\"Is billing address same as shipping address, enter 'y' for yes and 'n' for no. \")\n",
    "    if ask.lower() == 'y':\n",
    "        file.write(\"Billing address:\\n\")\n",
    "        file.writelines(ls)\n",
    "        file.write(\"\\n\")\n",
    "    elif ask.lower() == 'n':\n",
    "        print(\"Enter the billing address: \")\n",
    "        first = input(\"Enter your first name: \")\n",
    "        last = input(\"Enter your last name: \")\n",
    "        add1 = input(\"Enter address Line 1: \")\n",
    "        add2 = input(\"Enter address Line 2: \")\n",
    "        city = input(\"Enter city name: \")\n",
    "        state = input(\"Enter your State name: \")\n",
    "        pin = input(\"Enter Pin code: \")\n",
    "        \n",
    "        ls = []\n",
    "        ls.append(first+\"\\n\")\n",
    "        ls.append(last+\"\\n\")\n",
    "        ls.append(add1+\"\\n\")\n",
    "        ls.append(add2+\"\\n\")\n",
    "        ls.append(city+\"\\n\")\n",
    "        ls.append(state+\"\\n\")\n",
    "        ls.append(pin+\"\\n\")\n",
    "\n",
    "        file.write(\"Billing Address:\\n\")\n",
    "        file.writelines(ls)\n",
    "        file.write(\"\\n\")\n",
    "    file.close()"
   ]
  },
  {
   "cell_type": "code",
   "execution_count": 6,
   "id": "e15ac657",
   "metadata": {},
   "outputs": [
    {
     "name": "stdout",
     "output_type": "stream",
     "text": [
      "Enter your first name: test 2\n",
      "Enter your last name: rhadgs\n",
      "Enter address Line 1: adsguydfhfj\n",
      "Enter address Line 2: adgfbhf\n",
      "Enter city name: adgfjadgb\n",
      "Enter your State name: ahgdjkb\n",
      "Enter Pin code: 124411\n",
      "Is billing address same as shipping address, enter 'y' for yes and 'n' for no. n\n",
      "Enter the billing address: \n",
      "Enter your first name: different billing address for test2\n",
      "Enter your last name: agrhuij\n",
      "Enter address Line 1: ashguifjkb\n",
      "Enter address Line 2: asugihvjdb\n",
      "Enter city name: aughsvfjb\n",
      "Enter your State name: aghujb\n",
      "Enter Pin code: 1235435\n"
     ]
    }
   ],
   "source": [
    "user()"
   ]
  },
  {
   "cell_type": "markdown",
   "id": "c56de64f",
   "metadata": {},
   "source": [
    "4. Write a function called reduce_whitespace(), in a module named\n",
    "string_operations, that returns the line with all extra whitespace\n",
    "characters between words replaced with single space.\n",
    "Read the given file white_spaces.txt and apply this function,\n",
    "reduce_whitespace(), by importing from module, on all the lines in the file,\n",
    "one by one, and then save these lines in a new file.\n"
   ]
  },
  {
   "cell_type": "code",
   "execution_count": 7,
   "id": "5ee95c44",
   "metadata": {},
   "outputs": [],
   "source": [
    "from string_operations import reduce_whitespace\n",
    "\n",
    "file = open(\"white_spaces.txt\", \"r\")\n",
    "string = file.readlines()\n",
    "\n",
    "updated = reduce_whitespace(string)\n",
    "file1 = open(\"updated_white_spaces.txt\", \"w\")\n",
    "file1.writelines(updated)\n",
    "file1.close()\n",
    "file.close()"
   ]
  },
  {
   "cell_type": "markdown",
   "id": "a29a7f3f",
   "metadata": {},
   "source": [
    "5. LUCKY WINNER: Write a function, that takes integer n, to select n random\n",
    "names from the file students.txt. Each time we call this function, the\n",
    "names & roll numbers should be displayed without repetition."
   ]
  },
  {
   "cell_type": "code",
   "execution_count": 8,
   "id": "6a4cc2e6",
   "metadata": {},
   "outputs": [],
   "source": [
    "import random\n",
    "def lucky(n):\n",
    "    \"\"\"\n",
    "    Thhe lucky function displays the name of randomly selected students.\n",
    "    \"\"\"\n",
    "    file = open(\"students_list.txt\", \"r\")\n",
    "    students = file.readlines()\n",
    "    choices = random.choices(students,k = n)\n",
    "    for i in choices:\n",
    "        print(i)"
   ]
  },
  {
   "cell_type": "code",
   "execution_count": 9,
   "id": "65c32c2b",
   "metadata": {},
   "outputs": [
    {
     "name": "stdout",
     "output_type": "stream",
     "text": [
      "220950125050,MEHUL ANOOPKUMAR NAGPURE\n",
      "\n",
      "220950125106,VEDANT PRASHANT KAKDE\n",
      "\n",
      "220950125042,KAJAL PATEL\n",
      "\n",
      "220950125114,YASH BALLAL\n",
      "\n",
      "220950125047,LOKHANDE SHUBHAM RAJIV\n",
      "\n"
     ]
    }
   ],
   "source": [
    "lucky(5)"
   ]
  },
  {
   "cell_type": "markdown",
   "id": "91d2f06f",
   "metadata": {},
   "source": [
    "6. File movies_data.txt contains data about movies. Each line of this file\n",
    "contains data for 1 movie. Data is in following format:\n",
    "movie_id::movie_name (release_rear)::genres\n",
    "If movie falls in more than one genre then those are separated by “|”.\n",
    "E.g.: Comedy|Drama|Romance\n",
    "Based on the data in this file answer the following questions:"
   ]
  },
  {
   "cell_type": "code",
   "execution_count": 10,
   "id": "e7dee6dc",
   "metadata": {},
   "outputs": [],
   "source": [
    "file = open('movies_data.txt', encoding='utf-8', errors='ignore')\n",
    "lines = file.readlines()"
   ]
  },
  {
   "cell_type": "markdown",
   "id": "a70c1929",
   "metadata": {},
   "source": [
    "a) Find the number of movies released every year in a dictionary.\n",
    "Sample output: {'1923': 3, '1930': 7, '1957': 20…}"
   ]
  },
  {
   "cell_type": "code",
   "execution_count": 11,
   "id": "3303fddf",
   "metadata": {},
   "outputs": [
    {
     "name": "stdout",
     "output_type": "stream",
     "text": [
      "{'1995': 342, '1994': 257, '1996': 345, '1976': 21, '1993': 165, '1992': 102, '1988': 69, '1967': 24, '1964': 16, '1977': 22, '1965': 20, '1982': 50, '1962': 20, '1990': 77, '1991': 60, '1989': 60, '1937': 11, '1940': 19, '1969': 18, '1981': 43, '1973': 29, '1970': 16, '1960': 15, '1955': 19, '1956': 19, '1959': 22, '1968': 22, '1980': 41, '1975': 21, '1986': 104, '1948': 12, '1943': 10, '1963': 25, '1950': 14, '1946': 13, '1987': 71, '1997': 315, '1974': 28, '1958': 22, '1949': 10, '1972': 22, '1998': 337, '1933': 7, '1952': 11, '1951': 12, '1957': 20, '1961': 19, '1954': 15, '1934': 7, '1944': 13, '1942': 13, '1941': 11, '1953': 14, '1939': 11, '1947': 14, '1945': 11, '1938': 6, '1935': 6, '1936': 8, '1926': 8, '1932': 7, '1930': 7, '1971': 26, '1979': 32, '1966': 12, '1978': 30, '1985': 65, '1983': 35, '1984': 60, '1931': 7, '1922': 2, '1927': 6, '1929': 3, '1928': 3, '1925': 6, '1923': 3, '1999': 283, '1919': 3, '2000': 156, '1920': 2, '1921': 1}\n"
     ]
    }
   ],
   "source": [
    "years = []\n",
    "for i in lines:\n",
    "    for j in range(0,len(i)):\n",
    "        if i[j] == '('  and i[j+5] == ')':\n",
    "            years.append(i[j+1:j+5])\n",
    "dictionary = {}\n",
    "for k in years:\n",
    "    dictionary[k] = years.count(k)\n",
    "print(dictionary)"
   ]
  },
  {
   "cell_type": "markdown",
   "id": "d3d4a018",
   "metadata": {},
   "source": [
    "b) Find the total number of movie names starting with T or J."
   ]
  },
  {
   "cell_type": "code",
   "execution_count": 12,
   "id": "f49b1ace",
   "metadata": {},
   "outputs": [
    {
     "name": "stdout",
     "output_type": "stream",
     "text": [
      "334\n"
     ]
    }
   ],
   "source": [
    "count = 0\n",
    "for i in lines:\n",
    "    for j in range(len(i)):\n",
    "        if i[j] == \":\" and i[j+1] == \":\":\n",
    "            if i[j+2] == \"T\" or i[j+2] == \"T\":\n",
    "                count +=1\n",
    "print(count)"
   ]
  },
  {
   "cell_type": "markdown",
   "id": "70a3b48f",
   "metadata": {},
   "source": [
    "c) How many comedy movies were released in 1995?"
   ]
  },
  {
   "cell_type": "code",
   "execution_count": 13,
   "id": "c8c3f3f5",
   "metadata": {},
   "outputs": [
    {
     "name": "stdout",
     "output_type": "stream",
     "text": [
      "89\n"
     ]
    }
   ],
   "source": [
    "count = 0\n",
    "for i in lines:\n",
    "    for j in range(len(i)):\n",
    "        if i[j] == '('  and i[j+5] == ')':\n",
    "            if i[j+1: j+5] == \"1995\":\n",
    "                if \"Comedy\" in i:\n",
    "                    count += 1\n",
    "print(count)"
   ]
  },
  {
   "cell_type": "markdown",
   "id": "dcdc4f2f",
   "metadata": {},
   "source": [
    "d) How many action movies were released in 1993?"
   ]
  },
  {
   "cell_type": "code",
   "execution_count": 14,
   "id": "eddf1571",
   "metadata": {},
   "outputs": [
    {
     "name": "stdout",
     "output_type": "stream",
     "text": [
      "25\n"
     ]
    }
   ],
   "source": [
    "count = 0\n",
    "for i in lines:\n",
    "    for j in range(len(i)):\n",
    "        if i[j] == '('  and i[j+5] == ')':\n",
    "            if i[j+1: j+5] == \"1993\":\n",
    "                if \"Action\" in i:\n",
    "                    count += 1\n",
    "print(count)"
   ]
  },
  {
   "cell_type": "markdown",
   "id": "493ea639",
   "metadata": {},
   "source": [
    "e) How many Batman movies are present in the file?"
   ]
  },
  {
   "cell_type": "code",
   "execution_count": 15,
   "id": "07f69563",
   "metadata": {
    "scrolled": true
   },
   "outputs": [
    {
     "name": "stdout",
     "output_type": "stream",
     "text": [
      "5\n"
     ]
    }
   ],
   "source": [
    "count = 0\n",
    "for i in lines:\n",
    "    if \"Batman\" in i:\n",
    "        count += 1\n",
    "print(count)"
   ]
  },
  {
   "cell_type": "code",
   "execution_count": 16,
   "id": "44c6dd74",
   "metadata": {},
   "outputs": [],
   "source": [
    "file.close()"
   ]
  }
 ],
 "metadata": {
  "kernelspec": {
   "display_name": "Python 3 (ipykernel)",
   "language": "python",
   "name": "python3"
  },
  "language_info": {
   "codemirror_mode": {
    "name": "ipython",
    "version": 3
   },
   "file_extension": ".py",
   "mimetype": "text/x-python",
   "name": "python",
   "nbconvert_exporter": "python",
   "pygments_lexer": "ipython3",
   "version": "3.9.13"
  }
 },
 "nbformat": 4,
 "nbformat_minor": 5
}
