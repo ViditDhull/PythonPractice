{
 "cells": [
  {
   "cell_type": "markdown",
   "id": "cb5b4dfe",
   "metadata": {},
   "source": [
    "1. Give a call to print that is provided one string that displays the following address on three separate lines.\n",
    "C-DAC Knowledge Park,\n",
    "Old Madras Road,\n",
    "Bengaluru - 560038"
   ]
  },
  {
   "cell_type": "code",
   "execution_count": 1,
   "id": "6d71b2ab",
   "metadata": {
    "scrolled": true
   },
   "outputs": [
    {
     "name": "stdout",
     "output_type": "stream",
     "text": [
      "C-DAC Knowledge Park,\n",
      "Old Madras Road,\n",
      "Bengaluru - 560038\n"
     ]
    }
   ],
   "source": [
    "print('''C-DAC Knowledge Park,\n",
    "Old Madras Road,\n",
    "Bengaluru - 560038''')"
   ]
  },
  {
   "cell_type": "markdown",
   "id": "2091f4cf",
   "metadata": {},
   "source": [
    "2. Write a program which accepts the radius of a circle from the user and compute its area and circumference and display the output."
   ]
  },
  {
   "cell_type": "code",
   "execution_count": 2,
   "id": "421b2dcd",
   "metadata": {},
   "outputs": [
    {
     "name": "stdout",
     "output_type": "stream",
     "text": [
      "Enter the radius : 15\n",
      "The area of the circle is 706.5\n",
      "The circumference of the circle is 94.2\n"
     ]
    }
   ],
   "source": [
    "radius = float(input(\"Enter the radius : \"))\n",
    "print(\"The area of the circle is\", (radius**2) * 3.14)\n",
    "print(\"The circumference of the circle is\", 2 * 3.14 * radius)"
   ]
  },
  {
   "cell_type": "markdown",
   "id": "c90f58ed",
   "metadata": {},
   "source": [
    "3. Write a program to display a string which is n copies of a given string. Where n is a non-negative integer."
   ]
  },
  {
   "cell_type": "code",
   "execution_count": 3,
   "id": "2656fd39",
   "metadata": {},
   "outputs": [
    {
     "name": "stdout",
     "output_type": "stream",
     "text": [
      "Enter the string : Python\n",
      "Enter the number of times to repeat the string : 5\n",
      "Python Python Python Python Python \n"
     ]
    }
   ],
   "source": [
    "string = input(\"Enter the string : \")\n",
    "num = int(input(\"Enter the number of times to repeat the string : \"))\n",
    "print((string + \" \") *num)"
   ]
  },
  {
   "cell_type": "markdown",
   "id": "f31e1483",
   "metadata": {},
   "source": [
    "4. Write a program to find whether a given number (accept number from the user) is even or odd, print out an appropriate message to the user. If the number is even, print its square and if the number is odd, print its cube."
   ]
  },
  {
   "cell_type": "code",
   "execution_count": 4,
   "id": "b9f12ad3",
   "metadata": {},
   "outputs": [
    {
     "name": "stdout",
     "output_type": "stream",
     "text": [
      "Enter the number : 25\n",
      "The number is odd\n",
      "The cube of the number is 15625\n"
     ]
    }
   ],
   "source": [
    "num = int(input(\"Enter the number : \"))\n",
    "if num % 2 == 0:\n",
    "    print(\"The number is even\")\n",
    "    print(\"The square of the number is\", num ** 2)\n",
    "else:\n",
    "    print(\"The number is odd\")\n",
    "    print(\"The cube of the number is\", num ** 3)"
   ]
  },
  {
   "cell_type": "markdown",
   "id": "75658e2f",
   "metadata": {},
   "source": [
    "5. Write a program to test whether a passed letter is a vowel or not. (Accept letter from the user)"
   ]
  },
  {
   "cell_type": "code",
   "execution_count": 5,
   "id": "c8f3994c",
   "metadata": {},
   "outputs": [
    {
     "name": "stdout",
     "output_type": "stream",
     "text": [
      "Enter the letter : m\n",
      "The letter is not a vowel.\n"
     ]
    }
   ],
   "source": [
    "letter = input(\"Enter the letter : \")\n",
    "if letter in 'aeiouAEIOU':\n",
    "    print(\"The letter is a vowel.\")\n",
    "else:\n",
    "    print(\"The letter is not a vowel.\")"
   ]
  },
  {
   "cell_type": "markdown",
   "id": "0cb78b59",
   "metadata": {},
   "source": [
    "6. Write a program to implement a simple calculator that can add, subtract, multiply and divide two integers. Take the required operation as choice from the user."
   ]
  },
  {
   "cell_type": "code",
   "execution_count": 6,
   "id": "89638cab",
   "metadata": {},
   "outputs": [
    {
     "name": "stdout",
     "output_type": "stream",
     "text": [
      "Enter the first number : 100\n",
      "Enter the second number : 25\n",
      "Enter '+' for addition, '-' for substraction, '*' for multiplication and '/' for divide./\n",
      "4.0\n"
     ]
    }
   ],
   "source": [
    "num1 = float(input(\"Enter the first number : \"))\n",
    "num2 = float(input(\"Enter the second number : \"))\n",
    "opr = input(\"Enter '+' for addition, '-' for substraction, '*' for multiplication and '/' for divide.\")\n",
    "if opr == '+':\n",
    "    print(num1 + num2)\n",
    "elif opr == '-':\n",
    "    print(num1 - num2)\n",
    "elif opr == '*':\n",
    "    print(num1 * num2)\n",
    "elif opr == '/':\n",
    "    print(num1/num2)\n",
    "else:\n",
    "    print(\"Invalid operation\")"
   ]
  },
  {
   "cell_type": "markdown",
   "id": "9c972f5c",
   "metadata": {},
   "source": [
    "7. Write a program to check whether a number is a prime number or not."
   ]
  },
  {
   "cell_type": "code",
   "execution_count": 8,
   "id": "85cb745a",
   "metadata": {},
   "outputs": [
    {
     "name": "stdout",
     "output_type": "stream",
     "text": [
      "Enter the number : 37\n",
      "It is a prime number.\n"
     ]
    }
   ],
   "source": [
    "num = int(input(\"Enter the number : \"))\n",
    "for i in range(2,num):\n",
    "    if num % i == 0:\n",
    "        print(\"It is not a prime number.\")\n",
    "        break\n",
    "else:\n",
    "    print(\"It is a prime number.\")"
   ]
  },
  {
   "cell_type": "markdown",
   "id": "4eab0ac5",
   "metadata": {},
   "source": [
    "8. Write a program to remove all the following punctuation/special characters from the given string. \n",
    "!()-[]{};:'\"\\,<>./?@#$%^&*_~"
   ]
  },
  {
   "cell_type": "code",
   "execution_count": 9,
   "id": "4b7a6716",
   "metadata": {},
   "outputs": [
    {
     "name": "stdout",
     "output_type": "stream",
     "text": [
      "Enter the string: hjvghftyfvj%$&$D$YY$D^Z^U%&UEFT$Z#R$IZ\n",
      "hjvghftyfvjDYYDZUUEFTZRIZ\n"
     ]
    }
   ],
   "source": [
    "string = input(\"Enter the string: \")\n",
    "for i in string:\n",
    "    if i in '''!()-[]{};:'\"\\,<>./?@#$%^&*_~''':\n",
    "        string = string.replace(i, '')\n",
    "print(string)"
   ]
  }
 ],
 "metadata": {
  "kernelspec": {
   "display_name": "Python 3 (ipykernel)",
   "language": "python",
   "name": "python3"
  },
  "language_info": {
   "codemirror_mode": {
    "name": "ipython",
    "version": 3
   },
   "file_extension": ".py",
   "mimetype": "text/x-python",
   "name": "python",
   "nbconvert_exporter": "python",
   "pygments_lexer": "ipython3",
   "version": "3.9.13"
  }
 },
 "nbformat": 4,
 "nbformat_minor": 5
}
